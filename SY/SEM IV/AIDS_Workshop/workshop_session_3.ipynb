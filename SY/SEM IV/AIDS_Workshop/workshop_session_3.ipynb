{
 "cells": [
  {
   "cell_type": "code",
   "execution_count": 1,
   "id": "1f0154e4",
   "metadata": {},
   "outputs": [],
   "source": [
    "import pandas as pd\n",
    "import matplotlib.pyplot as plt\n",
    "import numpy as np\n",
    "from sklearn.datasets import make_blobs\n",
    "from sklearn.cluster import KMeans"
   ]
  },
  {
   "cell_type": "code",
   "execution_count": 2,
   "id": "c5d1c58d",
   "metadata": {},
   "outputs": [],
   "source": [
    "x, y = make_blobs(n_samples = 300, centers = 3, random_state = 42) "
   ]
  },
  {
   "cell_type": "code",
   "execution_count": 3,
   "id": "072ce044",
   "metadata": {},
   "outputs": [
    {
     "data": {
      "text/plain": [
       "array([[-7.33898809, -7.72995396],\n",
       "       [-7.74004056, -7.26466514],\n",
       "       [-1.68665271,  7.79344248],\n",
       "       [ 4.42219763,  3.07194654],\n",
       "       [-8.91775173, -7.8881959 ],\n",
       "       [ 5.49753846,  1.81323115],\n",
       "       [-2.3360167 ,  9.39960351],\n",
       "       [ 5.05281029,  1.40944513],\n",
       "       [-2.98837186,  8.82862715],\n",
       "       [-3.70050112,  9.67083974],\n",
       "       [-3.11090424, 10.86656431],\n",
       "       [ 4.99689432,  1.28026009],\n",
       "       [-2.30033403,  7.054616  ],\n",
       "       [-3.92456837,  8.59364081],\n",
       "       [-7.53026976, -7.36723498],\n",
       "       [-3.21125072,  8.68662398],\n",
       "       [-8.50716963, -6.83202465],\n",
       "       [ 2.61473625,  2.159624  ],\n",
       "       [-2.41212007,  9.98293112],\n",
       "       [-1.92234053, 11.20474175],\n",
       "       [-1.35060204,  8.19360381],\n",
       "       [-2.67048333,  9.41833699],\n",
       "       [ 5.61499857,  1.8261123 ],\n",
       "       [-6.99195524, -7.10107919],\n",
       "       [-2.97261532,  8.54855637],\n",
       "       [-6.34982301, -5.43854097],\n",
       "       [-7.45639852, -6.12471837],\n",
       "       [ 3.82165815,  4.06555696],\n",
       "       [ 4.62763206,  1.07591531],\n",
       "       [-3.39871205,  8.19847584],\n",
       "       [-3.49973395,  8.4479884 ],\n",
       "       [-3.58009012,  9.49675854],\n",
       "       [-6.04929137, -7.73619342],\n",
       "       [-2.29510388,  7.76854735],\n",
       "       [-8.39481825, -5.51323533],\n",
       "       [-2.28173769, 10.32142888],\n",
       "       [-6.12263857, -7.80227492],\n",
       "       [ 4.88484541,  1.46622651],\n",
       "       [-6.98665755, -7.91535192],\n",
       "       [ 4.98163481,  3.84934052],\n",
       "       [ 5.90678999,  1.26550022],\n",
       "       [-2.25164723,  8.93984021],\n",
       "       [-7.36723342, -7.31266778],\n",
       "       [ 4.52533899,  3.210986  ],\n",
       "       [-2.54390939,  7.84560809],\n",
       "       [-2.14780202, 10.55232269],\n",
       "       [-6.80806095, -7.35776704],\n",
       "       [ 4.15451529,  2.05504382],\n",
       "       [-6.54202453, -7.29198656],\n",
       "       [ 6.22589565,  0.73535419],\n",
       "       [ 4.71568339,  1.29600797],\n",
       "       [-6.88759983, -5.40016545],\n",
       "       [-6.51302895, -7.81998938],\n",
       "       [-1.03130358,  8.49601591],\n",
       "       [-5.70033001, -6.81259111],\n",
       "       [ 5.15492652,  5.82590117],\n",
       "       [-6.48517505, -7.30109407],\n",
       "       [-1.54582149,  9.42706706],\n",
       "       [ 4.75339618,  2.63530036],\n",
       "       [-2.96983639, 10.07140835],\n",
       "       [-6.64401263, -6.1092444 ],\n",
       "       [ 6.77291221,  0.02108188],\n",
       "       [ 5.53947871,  2.2804692 ],\n",
       "       [-3.80074638, -5.76053468],\n",
       "       [-7.12859134, -5.90853864],\n",
       "       [ 3.74146416,  2.46508886],\n",
       "       [ 3.92143461,  1.75972253],\n",
       "       [-6.16801231, -8.00475169],\n",
       "       [-8.58300963, -6.93565729],\n",
       "       [-3.57150134,  9.48787856],\n",
       "       [ 5.94535764,  1.99417353],\n",
       "       [-5.8212027 , -8.63884908],\n",
       "       [-7.5793527 , -6.66612968],\n",
       "       [-2.03596   ,  8.94145722],\n",
       "       [-2.90130578,  7.55077118],\n",
       "       [-6.60917037, -6.9303477 ],\n",
       "       [-8.94706929, -6.96922963],\n",
       "       [ 3.88074617,  2.12356347],\n",
       "       [-3.10983631,  8.72259238],\n",
       "       [ 5.81931896,  1.50399403],\n",
       "       [-3.52202874,  9.32853346],\n",
       "       [-2.58120774, 10.01781903],\n",
       "       [-6.37871   , -7.85766484],\n",
       "       [-2.17793419,  9.98983126],\n",
       "       [ 5.59030267,  1.39626603],\n",
       "       [-6.04393508, -8.00981645],\n",
       "       [-5.71184513, -6.62568875],\n",
       "       [-0.64342311,  9.48811905],\n",
       "       [ 6.40533308,  2.37815139],\n",
       "       [-3.88686699,  8.07646109],\n",
       "       [-8.54903247, -6.3367494 ],\n",
       "       [-2.54502366, 10.57892978],\n",
       "       [-6.40064737, -6.54644749],\n",
       "       [-1.59379551,  9.34303724],\n",
       "       [-3.03895783,  9.52755356],\n",
       "       [-7.4332765 , -8.07798749],\n",
       "       [-7.94724762, -7.02248908],\n",
       "       [-2.24931483,  9.796109  ],\n",
       "       [-7.64288635, -8.68499169],\n",
       "       [-6.46619229, -5.00331378],\n",
       "       [ 4.16493353,  1.31984045],\n",
       "       [-2.15141026,  9.57507065],\n",
       "       [ 4.43175659,  1.48016875],\n",
       "       [-1.71816568,  8.10489867],\n",
       "       [-3.34841515,  8.70507375],\n",
       "       [-2.26723535,  7.10100588],\n",
       "       [-2.16557933,  7.25124597],\n",
       "       [-2.25870477,  9.36073434],\n",
       "       [ 6.79306129,  1.20582212],\n",
       "       [-8.27819476, -6.31714036],\n",
       "       [ 5.32613903,  0.36045381],\n",
       "       [-3.29245092,  8.69222461],\n",
       "       [-3.31769123,  8.51252908],\n",
       "       [-2.44166942,  7.58953794],\n",
       "       [-2.52269485,  7.9565752 ],\n",
       "       [ 4.83893853,  1.37295281],\n",
       "       [-7.91687335, -7.07044827],\n",
       "       [ 2.92674431,  3.32704206],\n",
       "       [-8.75041911, -7.23162308],\n",
       "       [ 3.63386145,  0.75898107],\n",
       "       [ 5.15922535,  3.5059086 ],\n",
       "       [ 4.86397132,  1.98576208],\n",
       "       [-1.10640331,  7.61243507],\n",
       "       [-6.30307023, -6.56885944],\n",
       "       [-6.54731318, -7.62859613],\n",
       "       [-7.00754478, -7.83565003],\n",
       "       [-6.26546049, -6.12260188],\n",
       "       [-3.18611962,  9.62596242],\n",
       "       [-5.84208725, -7.39012599],\n",
       "       [-7.40988481, -7.67298243],\n",
       "       [-1.42614638, 10.06808818],\n",
       "       [-4.42796884,  8.98777225],\n",
       "       [-2.41743685,  7.02671721],\n",
       "       [-4.23411546,  8.4519986 ],\n",
       "       [-3.98771961,  8.29444192],\n",
       "       [ 5.14486612,  2.83892488],\n",
       "       [ 4.38731068,  0.7253865 ],\n",
       "       [-7.14950213, -7.85887331],\n",
       "       [-2.50408417,  8.77969899],\n",
       "       [-7.39349411, -7.93932312],\n",
       "       [-2.97867201,  9.55684617],\n",
       "       [-2.75458574,  8.26054996],\n",
       "       [-4.81887927, -5.12476875],\n",
       "       [-2.42215055,  8.71527878],\n",
       "       [ 3.12050887,  1.48893561],\n",
       "       [ 3.92457513,  2.65276743],\n",
       "       [ 5.45274096,  2.60279853],\n",
       "       [-2.23250682,  9.84146938],\n",
       "       [ 5.91754373,  1.3815983 ],\n",
       "       [-3.18922234,  9.24653983],\n",
       "       [-3.4172217 ,  7.60198243],\n",
       "       [-4.91490206, -6.84484604],\n",
       "       [ 4.9208707 ,  1.35047016],\n",
       "       [-8.41374136, -5.60243277],\n",
       "       [-2.21307735,  9.2753414 ],\n",
       "       [ 3.43958243,  1.63866845],\n",
       "       [ 4.6213657 ,  1.68451105],\n",
       "       [-7.41012834, -7.45592783],\n",
       "       [-6.24103473, -8.54162966],\n",
       "       [-3.39305506,  9.16801123],\n",
       "       [-5.12894273,  9.83618863],\n",
       "       [-7.75524544, -8.26290932],\n",
       "       [-5.32847522, -6.76443496],\n",
       "       [-5.67841327, -7.28818497],\n",
       "       [-2.4509889 ,  7.87131583],\n",
       "       [-6.00850249, -7.20613313],\n",
       "       [ 4.16884053,  2.20521962],\n",
       "       [-2.44896741, 11.47752824],\n",
       "       [-1.98725606,  9.3112708 ],\n",
       "       [-1.69568041,  7.78342181],\n",
       "       [-1.36637481,  9.76621916],\n",
       "       [-3.42862186, 10.56422053],\n",
       "       [ 3.80015699,  1.37377704],\n",
       "       [-2.95571258,  9.87068492],\n",
       "       [ 3.65837019,  2.43527316],\n",
       "       [ 4.66438901,  2.47116798],\n",
       "       [ 5.51219947,  2.15651169],\n",
       "       [-2.77385446, 11.73445529],\n",
       "       [ 6.76203503,  3.00563494],\n",
       "       [ 5.26399865,  2.60151519],\n",
       "       [-6.7930374 , -7.03578683],\n",
       "       [-3.05358035,  9.12520872],\n",
       "       [-7.54225095, -6.30951092],\n",
       "       [ 6.27229014,  0.54302831],\n",
       "       [ 5.21076935,  3.10873532],\n",
       "       [-9.35127169, -7.67700485],\n",
       "       [ 4.96404519,  1.84302663],\n",
       "       [-1.04354885,  8.78850983],\n",
       "       [ 1.3986115 ,  0.94878204],\n",
       "       [ 4.19983435,  2.10391026],\n",
       "       [-6.94230629, -5.92496727],\n",
       "       [-5.25101165, -8.26021105],\n",
       "       [ 3.81438164,  1.65178384],\n",
       "       [-8.48607351, -6.67664596],\n",
       "       [ 3.9095122 ,  2.18962827],\n",
       "       [ 3.31964563,  3.80462845],\n",
       "       [ 4.62086263,  0.97064032],\n",
       "       [ 6.78382293,  2.60708871],\n",
       "       [-3.48387929,  9.80137073],\n",
       "       [-6.69776094, -6.63188901],\n",
       "       [-1.77073104,  9.18565441],\n",
       "       [-2.62484591,  8.71318243],\n",
       "       [ 3.81765844,  2.2168569 ],\n",
       "       [ 4.05051408,  2.82277178],\n",
       "       [-1.6966718 , 10.37052616],\n",
       "       [ 4.9507864 ,  3.4485259 ],\n",
       "       [-7.86535324, -6.37606308],\n",
       "       [-7.52620008, -7.9616576 ],\n",
       "       [ 4.7368748 ,  2.56832671],\n",
       "       [-2.1475616 ,  8.36916637],\n",
       "       [-2.40954626,  8.51081047],\n",
       "       [-7.84455065, -6.19405813],\n",
       "       [ 6.09102244,  2.93244051],\n",
       "       [ 3.37899488,  2.89103163],\n",
       "       [-6.83110556, -7.71105971],\n",
       "       [-5.37727014, -6.80601481],\n",
       "       [-6.24684533, -4.60941674],\n",
       "       [-6.30255506, -7.08315498],\n",
       "       [-3.74614833,  7.69382952],\n",
       "       [-7.15467889, -9.18203076],\n",
       "       [-6.05022161, -9.0912449 ],\n",
       "       [ 2.51598311,  1.44741466],\n",
       "       [-7.63597794, -8.3023633 ],\n",
       "       [-8.18409669, -6.21043704],\n",
       "       [-2.49619573, 10.46782021],\n",
       "       [ 3.8473581 ,  1.85843324],\n",
       "       [-7.32392045, -6.5028091 ],\n",
       "       [-5.19248556, -5.99846984],\n",
       "       [ 4.32460959,  2.7321389 ],\n",
       "       [-2.58629933,  9.3554381 ],\n",
       "       [-1.68713746, 10.91107911],\n",
       "       [-5.95344964, -4.97069295],\n",
       "       [-2.85191214,  8.21200886],\n",
       "       [-8.0628857 , -8.91934177],\n",
       "       [ 4.68545068,  1.32156934],\n",
       "       [ 5.32183181,  1.66290293],\n",
       "       [-7.5314633 , -6.83271092],\n",
       "       [ 4.61897724,  2.09049707],\n",
       "       [-5.23465948, -7.12914563],\n",
       "       [-6.94570699, -8.09112579],\n",
       "       [-6.58985233, -4.80470879],\n",
       "       [ 4.9625974 ,  1.14593874],\n",
       "       [ 5.79798971,  2.76483238],\n",
       "       [-1.88353028,  8.15712857],\n",
       "       [-5.35650311, -6.34119955],\n",
       "       [ 3.04545118,  1.37379466],\n",
       "       [ 5.33002283,  1.57194921],\n",
       "       [ 4.64512254,  2.02015028],\n",
       "       [-6.61990469, -7.78442622],\n",
       "       [ 5.18697622,  1.77097703],\n",
       "       [-6.50848132, -7.48409478],\n",
       "       [ 4.53111869,  2.37488141],\n",
       "       [-7.47202112, -7.74410036],\n",
       "       [ 6.9545374 ,  0.10590449],\n",
       "       [ 6.82968177,  1.1648714 ],\n",
       "       [-6.55269982, -7.09921012],\n",
       "       [ 3.71294836,  1.91364433],\n",
       "       [-3.83738367,  9.21114736],\n",
       "       [-8.35821344, -5.73635555],\n",
       "       [-2.21612515,  8.29993471],\n",
       "       [-2.73266041,  9.72828662],\n",
       "       [-1.4781981 ,  9.94556625],\n",
       "       [-6.80225888, -7.74139379],\n",
       "       [-4.05986105,  9.0828491 ],\n",
       "       [ 5.46529519,  2.78667932],\n",
       "       [ 3.97809237,  2.82560302],\n",
       "       [-6.75933156, -6.36567076],\n",
       "       [ 4.70968092,  1.58785609],\n",
       "       [ 5.38717244,  2.58353995],\n",
       "       [-2.70155859,  9.31583347],\n",
       "       [-0.92998481,  9.78172086],\n",
       "       [ 4.73755493,  1.2001599 ],\n",
       "       [ 4.16794697,  3.06212028],\n",
       "       [ 5.1549141 ,  2.48695563],\n",
       "       [-6.78029489, -6.12872247],\n",
       "       [-5.87333438, -7.45700146],\n",
       "       [-7.14903403, -6.16256734],\n",
       "       [-3.6155326 ,  7.8180795 ],\n",
       "       [-0.62301172,  9.18886394],\n",
       "       [-3.35599134,  7.4994389 ],\n",
       "       [ 3.86705362,  1.73635108],\n",
       "       [ 5.08369826,  2.74780374],\n",
       "       [ 6.08115213,  0.53730753],\n",
       "       [ 3.19179449,  0.56570591],\n",
       "       [-6.54113078, -7.29539751],\n",
       "       [ 4.70415886,  0.89542491],\n",
       "       [-6.23425124, -5.51147804],\n",
       "       [ 5.5938806 ,  2.62456094],\n",
       "       [ 4.48809374,  2.56148689],\n",
       "       [-6.49556174, -6.91280434],\n",
       "       [-2.18511365,  8.62920385],\n",
       "       [ 4.18981336,  2.59601962],\n",
       "       [ 5.80304259,  1.98340274],\n",
       "       [-2.72886951,  9.3713987 ],\n",
       "       [-7.11857524, -7.78767326],\n",
       "       [-3.6601912 ,  9.38998415],\n",
       "       [ 3.81088383,  1.41298864],\n",
       "       [-4.11668086,  9.19891999],\n",
       "       [-6.86120881, -5.20367228],\n",
       "       [-6.01002127, -5.52447173]])"
      ]
     },
     "execution_count": 3,
     "metadata": {},
     "output_type": "execute_result"
    }
   ],
   "source": [
    "x"
   ]
  },
  {
   "cell_type": "code",
   "execution_count": 4,
   "id": "21f5cdaa",
   "metadata": {},
   "outputs": [],
   "source": [
    "kmeans = KMeans(n_clusters = 3, random_state = 42)"
   ]
  },
  {
   "cell_type": "code",
   "execution_count": 5,
   "id": "9b388438",
   "metadata": {},
   "outputs": [
    {
     "name": "stderr",
     "output_type": "stream",
     "text": [
      "/usr/lib/python3.10/site-packages/sklearn/cluster/_kmeans.py:870: FutureWarning: The default value of `n_init` will change from 10 to 'auto' in 1.4. Set the value of `n_init` explicitly to suppress the warning\n",
      "  warnings.warn(\n"
     ]
    },
    {
     "data": {
      "text/html": [
       "<style>#sk-container-id-1 {color: black;background-color: white;}#sk-container-id-1 pre{padding: 0;}#sk-container-id-1 div.sk-toggleable {background-color: white;}#sk-container-id-1 label.sk-toggleable__label {cursor: pointer;display: block;width: 100%;margin-bottom: 0;padding: 0.3em;box-sizing: border-box;text-align: center;}#sk-container-id-1 label.sk-toggleable__label-arrow:before {content: \"▸\";float: left;margin-right: 0.25em;color: #696969;}#sk-container-id-1 label.sk-toggleable__label-arrow:hover:before {color: black;}#sk-container-id-1 div.sk-estimator:hover label.sk-toggleable__label-arrow:before {color: black;}#sk-container-id-1 div.sk-toggleable__content {max-height: 0;max-width: 0;overflow: hidden;text-align: left;background-color: #f0f8ff;}#sk-container-id-1 div.sk-toggleable__content pre {margin: 0.2em;color: black;border-radius: 0.25em;background-color: #f0f8ff;}#sk-container-id-1 input.sk-toggleable__control:checked~div.sk-toggleable__content {max-height: 200px;max-width: 100%;overflow: auto;}#sk-container-id-1 input.sk-toggleable__control:checked~label.sk-toggleable__label-arrow:before {content: \"▾\";}#sk-container-id-1 div.sk-estimator input.sk-toggleable__control:checked~label.sk-toggleable__label {background-color: #d4ebff;}#sk-container-id-1 div.sk-label input.sk-toggleable__control:checked~label.sk-toggleable__label {background-color: #d4ebff;}#sk-container-id-1 input.sk-hidden--visually {border: 0;clip: rect(1px 1px 1px 1px);clip: rect(1px, 1px, 1px, 1px);height: 1px;margin: -1px;overflow: hidden;padding: 0;position: absolute;width: 1px;}#sk-container-id-1 div.sk-estimator {font-family: monospace;background-color: #f0f8ff;border: 1px dotted black;border-radius: 0.25em;box-sizing: border-box;margin-bottom: 0.5em;}#sk-container-id-1 div.sk-estimator:hover {background-color: #d4ebff;}#sk-container-id-1 div.sk-parallel-item::after {content: \"\";width: 100%;border-bottom: 1px solid gray;flex-grow: 1;}#sk-container-id-1 div.sk-label:hover label.sk-toggleable__label {background-color: #d4ebff;}#sk-container-id-1 div.sk-serial::before {content: \"\";position: absolute;border-left: 1px solid gray;box-sizing: border-box;top: 0;bottom: 0;left: 50%;z-index: 0;}#sk-container-id-1 div.sk-serial {display: flex;flex-direction: column;align-items: center;background-color: white;padding-right: 0.2em;padding-left: 0.2em;position: relative;}#sk-container-id-1 div.sk-item {position: relative;z-index: 1;}#sk-container-id-1 div.sk-parallel {display: flex;align-items: stretch;justify-content: center;background-color: white;position: relative;}#sk-container-id-1 div.sk-item::before, #sk-container-id-1 div.sk-parallel-item::before {content: \"\";position: absolute;border-left: 1px solid gray;box-sizing: border-box;top: 0;bottom: 0;left: 50%;z-index: -1;}#sk-container-id-1 div.sk-parallel-item {display: flex;flex-direction: column;z-index: 1;position: relative;background-color: white;}#sk-container-id-1 div.sk-parallel-item:first-child::after {align-self: flex-end;width: 50%;}#sk-container-id-1 div.sk-parallel-item:last-child::after {align-self: flex-start;width: 50%;}#sk-container-id-1 div.sk-parallel-item:only-child::after {width: 0;}#sk-container-id-1 div.sk-dashed-wrapped {border: 1px dashed gray;margin: 0 0.4em 0.5em 0.4em;box-sizing: border-box;padding-bottom: 0.4em;background-color: white;}#sk-container-id-1 div.sk-label label {font-family: monospace;font-weight: bold;display: inline-block;line-height: 1.2em;}#sk-container-id-1 div.sk-label-container {text-align: center;}#sk-container-id-1 div.sk-container {/* jupyter's `normalize.less` sets `[hidden] { display: none; }` but bootstrap.min.css set `[hidden] { display: none !important; }` so we also need the `!important` here to be able to override the default hidden behavior on the sphinx rendered scikit-learn.org. See: https://github.com/scikit-learn/scikit-learn/issues/21755 */display: inline-block !important;position: relative;}#sk-container-id-1 div.sk-text-repr-fallback {display: none;}</style><div id=\"sk-container-id-1\" class=\"sk-top-container\"><div class=\"sk-text-repr-fallback\"><pre>KMeans(n_clusters=3, random_state=42)</pre><b>In a Jupyter environment, please rerun this cell to show the HTML representation or trust the notebook. <br />On GitHub, the HTML representation is unable to render, please try loading this page with nbviewer.org.</b></div><div class=\"sk-container\" hidden><div class=\"sk-item\"><div class=\"sk-estimator sk-toggleable\"><input class=\"sk-toggleable__control sk-hidden--visually\" id=\"sk-estimator-id-1\" type=\"checkbox\" checked><label for=\"sk-estimator-id-1\" class=\"sk-toggleable__label sk-toggleable__label-arrow\">KMeans</label><div class=\"sk-toggleable__content\"><pre>KMeans(n_clusters=3, random_state=42)</pre></div></div></div></div></div>"
      ],
      "text/plain": [
       "KMeans(n_clusters=3, random_state=42)"
      ]
     },
     "execution_count": 5,
     "metadata": {},
     "output_type": "execute_result"
    }
   ],
   "source": [
    "kmeans.fit(x)"
   ]
  },
  {
   "cell_type": "code",
   "execution_count": 6,
   "id": "11aee397",
   "metadata": {},
   "outputs": [],
   "source": [
    "prediction = kmeans.predict(x)"
   ]
  },
  {
   "cell_type": "code",
   "execution_count": 7,
   "id": "22751129",
   "metadata": {},
   "outputs": [
    {
     "data": {
      "text/plain": [
       "<matplotlib.collections.PathCollection at 0x7fceeaaea770>"
      ]
     },
     "execution_count": 7,
     "metadata": {},
     "output_type": "execute_result"
    },
    {
     "data": {
      "image/png": "[encoded data removed]",
      "text/plain": [
       "<Figure size 640x480 with 1 Axes>"
      ]
     },
     "metadata": {},
     "output_type": "display_data"
    }
   ],
   "source": [
    "plt.scatter(x[:,0], x[:,1], c = prediction)\n",
    "plt.scatter(kmeans.cluster_centers_[:,0], kmeans.cluster_centers_[:,1], c = 'r', marker = 'X') "
   ]
  },
  {
   "cell_type": "code",
   "execution_count": 8,
   "id": "45b8d7d8",
   "metadata": {},
   "outputs": [],
   "source": [
    "from sklearn.datasets import load_iris"
   ]
  },
  {
   "cell_type": "code",
   "execution_count": 9,
   "id": "1ae62745",
   "metadata": {},
   "outputs": [],
   "source": [
    "iris = load_iris()"
   ]
  },
  {
   "cell_type": "code",
   "execution_count": 10,
   "id": "dac15364",
   "metadata": {},
   "outputs": [],
   "source": [
    "x = iris.data[:,2:4]"
   ]
  },
  {
   "cell_type": "code",
   "execution_count": 11,
   "id": "42c3a106",
   "metadata": {},
   "outputs": [
    {
     "data": {
      "text/plain": [
       "array([[1.4, 0.2],\n",
       "       [1.4, 0.2],\n",
       "       [1.3, 0.2],\n",
       "       [1.5, 0.2],\n",
       "       [1.4, 0.2],\n",
       "       [1.7, 0.4],\n",
       "       [1.4, 0.3],\n",
       "       [1.5, 0.2],\n",
       "       [1.4, 0.2],\n",
       "       [1.5, 0.1],\n",
       "       [1.5, 0.2],\n",
       "       [1.6, 0.2],\n",
       "       [1.4, 0.1],\n",
       "       [1.1, 0.1],\n",
       "       [1.2, 0.2],\n",
       "       [1.5, 0.4],\n",
       "       [1.3, 0.4],\n",
       "       [1.4, 0.3],\n",
       "       [1.7, 0.3],\n",
       "       [1.5, 0.3],\n",
       "       [1.7, 0.2],\n",
       "       [1.5, 0.4],\n",
       "       [1. , 0.2],\n",
       "       [1.7, 0.5],\n",
       "       [1.9, 0.2],\n",
       "       [1.6, 0.2],\n",
       "       [1.6, 0.4],\n",
       "       [1.5, 0.2],\n",
       "       [1.4, 0.2],\n",
       "       [1.6, 0.2],\n",
       "       [1.6, 0.2],\n",
       "       [1.5, 0.4],\n",
       "       [1.5, 0.1],\n",
       "       [1.4, 0.2],\n",
       "       [1.5, 0.2],\n",
       "       [1.2, 0.2],\n",
       "       [1.3, 0.2],\n",
       "       [1.4, 0.1],\n",
       "       [1.3, 0.2],\n",
       "       [1.5, 0.2],\n",
       "       [1.3, 0.3],\n",
       "       [1.3, 0.3],\n",
       "       [1.3, 0.2],\n",
       "       [1.6, 0.6],\n",
       "       [1.9, 0.4],\n",
       "       [1.4, 0.3],\n",
       "       [1.6, 0.2],\n",
       "       [1.4, 0.2],\n",
       "       [1.5, 0.2],\n",
       "       [1.4, 0.2],\n",
       "       [4.7, 1.4],\n",
       "       [4.5, 1.5],\n",
       "       [4.9, 1.5],\n",
       "       [4. , 1.3],\n",
       "       [4.6, 1.5],\n",
       "       [4.5, 1.3],\n",
       "       [4.7, 1.6],\n",
       "       [3.3, 1. ],\n",
       "       [4.6, 1.3],\n",
       "       [3.9, 1.4],\n",
       "       [3.5, 1. ],\n",
       "       [4.2, 1.5],\n",
       "       [4. , 1. ],\n",
       "       [4.7, 1.4],\n",
       "       [3.6, 1.3],\n",
       "       [4.4, 1.4],\n",
       "       [4.5, 1.5],\n",
       "       [4.1, 1. ],\n",
       "       [4.5, 1.5],\n",
       "       [3.9, 1.1],\n",
       "       [4.8, 1.8],\n",
       "       [4. , 1.3],\n",
       "       [4.9, 1.5],\n",
       "       [4.7, 1.2],\n",
       "       [4.3, 1.3],\n",
       "       [4.4, 1.4],\n",
       "       [4.8, 1.4],\n",
       "       [5. , 1.7],\n",
       "       [4.5, 1.5],\n",
       "       [3.5, 1. ],\n",
       "       [3.8, 1.1],\n",
       "       [3.7, 1. ],\n",
       "       [3.9, 1.2],\n",
       "       [5.1, 1.6],\n",
       "       [4.5, 1.5],\n",
       "       [4.5, 1.6],\n",
       "       [4.7, 1.5],\n",
       "       [4.4, 1.3],\n",
       "       [4.1, 1.3],\n",
       "       [4. , 1.3],\n",
       "       [4.4, 1.2],\n",
       "       [4.6, 1.4],\n",
       "       [4. , 1.2],\n",
       "       [3.3, 1. ],\n",
       "       [4.2, 1.3],\n",
       "       [4.2, 1.2],\n",
       "       [4.2, 1.3],\n",
       "       [4.3, 1.3],\n",
       "       [3. , 1.1],\n",
       "       [4.1, 1.3],\n",
       "       [6. , 2.5],\n",
       "       [5.1, 1.9],\n",
       "       [5.9, 2.1],\n",
       "       [5.6, 1.8],\n",
       "       [5.8, 2.2],\n",
       "       [6.6, 2.1],\n",
       "       [4.5, 1.7],\n",
       "       [6.3, 1.8],\n",
       "       [5.8, 1.8],\n",
       "       [6.1, 2.5],\n",
       "       [5.1, 2. ],\n",
       "       [5.3, 1.9],\n",
       "       [5.5, 2.1],\n",
       "       [5. , 2. ],\n",
       "       [5.1, 2.4],\n",
       "       [5.3, 2.3],\n",
       "       [5.5, 1.8],\n",
       "       [6.7, 2.2],\n",
       "       [6.9, 2.3],\n",
       "       [5. , 1.5],\n",
       "       [5.7, 2.3],\n",
       "       [4.9, 2. ],\n",
       "       [6.7, 2. ],\n",
       "       [4.9, 1.8],\n",
       "       [5.7, 2.1],\n",
       "       [6. , 1.8],\n",
       "       [4.8, 1.8],\n",
       "       [4.9, 1.8],\n",
       "       [5.6, 2.1],\n",
       "       [5.8, 1.6],\n",
       "       [6.1, 1.9],\n",
       "       [6.4, 2. ],\n",
       "       [5.6, 2.2],\n",
       "       [5.1, 1.5],\n",
       "       [5.6, 1.4],\n",
       "       [6.1, 2.3],\n",
       "       [5.6, 2.4],\n",
       "       [5.5, 1.8],\n",
       "       [4.8, 1.8],\n",
       "       [5.4, 2.1],\n",
       "       [5.6, 2.4],\n",
       "       [5.1, 2.3],\n",
       "       [5.1, 1.9],\n",
       "       [5.9, 2.3],\n",
       "       [5.7, 2.5],\n",
       "       [5.2, 2.3],\n",
       "       [5. , 1.9],\n",
       "       [5.2, 2. ],\n",
       "       [5.4, 2.3],\n",
       "       [5.1, 1.8]])"
      ]
     },
     "execution_count": 11,
     "metadata": {},
     "output_type": "execute_result"
    }
   ],
   "source": [
    "x"
   ]
  },
  {
   "cell_type": "code",
   "execution_count": 12,
   "id": "65f6b718",
   "metadata": {},
   "outputs": [],
   "source": [
    "kmeans = KMeans(n_clusters = 3, random_state = 42)"
   ]
  },
  {
   "cell_type": "code",
   "execution_count": 13,
   "id": "1b1f8ab2",
   "metadata": {},
   "outputs": [
    {
     "name": "stderr",
     "output_type": "stream",
     "text": [
      "/usr/lib/python3.10/site-packages/sklearn/cluster/_kmeans.py:870: FutureWarning: The default value of `n_init` will change from 10 to 'auto' in 1.4. Set the value of `n_init` explicitly to suppress the warning\n",
      "  warnings.warn(\n"
     ]
    },
    {
     "data": {
      "text/html": [
       "<style>#sk-container-id-2 {color: black;background-color: white;}#sk-container-id-2 pre{padding: 0;}#sk-container-id-2 div.sk-toggleable {background-color: white;}#sk-container-id-2 label.sk-toggleable__label {cursor: pointer;display: block;width: 100%;margin-bottom: 0;padding: 0.3em;box-sizing: border-box;text-align: center;}#sk-container-id-2 label.sk-toggleable__label-arrow:before {content: \"▸\";float: left;margin-right: 0.25em;color: #696969;}#sk-container-id-2 label.sk-toggleable__label-arrow:hover:before {color: black;}#sk-container-id-2 div.sk-estimator:hover label.sk-toggleable__label-arrow:before {color: black;}#sk-container-id-2 div.sk-toggleable__content {max-height: 0;max-width: 0;overflow: hidden;text-align: left;background-color: #f0f8ff;}#sk-container-id-2 div.sk-toggleable__content pre {margin: 0.2em;color: black;border-radius: 0.25em;background-color: #f0f8ff;}#sk-container-id-2 input.sk-toggleable__control:checked~div.sk-toggleable__content {max-height: 200px;max-width: 100%;overflow: auto;}#sk-container-id-2 input.sk-toggleable__control:checked~label.sk-toggleable__label-arrow:before {content: \"▾\";}#sk-container-id-2 div.sk-estimator input.sk-toggleable__control:checked~label.sk-toggleable__label {background-color: #d4ebff;}#sk-container-id-2 div.sk-label input.sk-toggleable__control:checked~label.sk-toggleable__label {background-color: #d4ebff;}#sk-container-id-2 input.sk-hidden--visually {border: 0;clip: rect(1px 1px 1px 1px);clip: rect(1px, 1px, 1px, 1px);height: 1px;margin: -1px;overflow: hidden;padding: 0;position: absolute;width: 1px;}#sk-container-id-2 div.sk-estimator {font-family: monospace;background-color: #f0f8ff;border: 1px dotted black;border-radius: 0.25em;box-sizing: border-box;margin-bottom: 0.5em;}#sk-container-id-2 div.sk-estimator:hover {background-color: #d4ebff;}#sk-container-id-2 div.sk-parallel-item::after {content: \"\";width: 100%;border-bottom: 1px solid gray;flex-grow: 1;}#sk-container-id-2 div.sk-label:hover label.sk-toggleable__label {background-color: #d4ebff;}#sk-container-id-2 div.sk-serial::before {content: \"\";position: absolute;border-left: 1px solid gray;box-sizing: border-box;top: 0;bottom: 0;left: 50%;z-index: 0;}#sk-container-id-2 div.sk-serial {display: flex;flex-direction: column;align-items: center;background-color: white;padding-right: 0.2em;padding-left: 0.2em;position: relative;}#sk-container-id-2 div.sk-item {position: relative;z-index: 1;}#sk-container-id-2 div.sk-parallel {display: flex;align-items: stretch;justify-content: center;background-color: white;position: relative;}#sk-container-id-2 div.sk-item::before, #sk-container-id-2 div.sk-parallel-item::before {content: \"\";position: absolute;border-left: 1px solid gray;box-sizing: border-box;top: 0;bottom: 0;left: 50%;z-index: -1;}#sk-container-id-2 div.sk-parallel-item {display: flex;flex-direction: column;z-index: 1;position: relative;background-color: white;}#sk-container-id-2 div.sk-parallel-item:first-child::after {align-self: flex-end;width: 50%;}#sk-container-id-2 div.sk-parallel-item:last-child::after {align-self: flex-start;width: 50%;}#sk-container-id-2 div.sk-parallel-item:only-child::after {width: 0;}#sk-container-id-2 div.sk-dashed-wrapped {border: 1px dashed gray;margin: 0 0.4em 0.5em 0.4em;box-sizing: border-box;padding-bottom: 0.4em;background-color: white;}#sk-container-id-2 div.sk-label label {font-family: monospace;font-weight: bold;display: inline-block;line-height: 1.2em;}#sk-container-id-2 div.sk-label-container {text-align: center;}#sk-container-id-2 div.sk-container {/* jupyter's `normalize.less` sets `[hidden] { display: none; }` but bootstrap.min.css set `[hidden] { display: none !important; }` so we also need the `!important` here to be able to override the default hidden behavior on the sphinx rendered scikit-learn.org. See: https://github.com/scikit-learn/scikit-learn/issues/21755 */display: inline-block !important;position: relative;}#sk-container-id-2 div.sk-text-repr-fallback {display: none;}</style><div id=\"sk-container-id-2\" class=\"sk-top-container\"><div class=\"sk-text-repr-fallback\"><pre>KMeans(n_clusters=3, random_state=42)</pre><b>In a Jupyter environment, please rerun this cell to show the HTML representation or trust the notebook. <br />On GitHub, the HTML representation is unable to render, please try loading this page with nbviewer.org.</b></div><div class=\"sk-container\" hidden><div class=\"sk-item\"><div class=\"sk-estimator sk-toggleable\"><input class=\"sk-toggleable__control sk-hidden--visually\" id=\"sk-estimator-id-2\" type=\"checkbox\" checked><label for=\"sk-estimator-id-2\" class=\"sk-toggleable__label sk-toggleable__label-arrow\">KMeans</label><div class=\"sk-toggleable__content\"><pre>KMeans(n_clusters=3, random_state=42)</pre></div></div></div></div></div>"
      ],
      "text/plain": [
       "KMeans(n_clusters=3, random_state=42)"
      ]
     },
     "execution_count": 13,
     "metadata": {},
     "output_type": "execute_result"
    }
   ],
   "source": [
    "kmeans.fit(x)"
   ]
  },
  {
   "cell_type": "code",
   "execution_count": 14,
   "id": "0fe4495e",
   "metadata": {},
   "outputs": [],
   "source": [
    "predictedclusters = kmeans.predict(x)"
   ]
  },
  {
   "cell_type": "code",
   "execution_count": 15,
   "id": "3b904d88",
   "metadata": {
    "scrolled": true
   },
   "outputs": [
    {
     "data": {
      "image/png": "[encoded data removed]",
      "text/plain": [
       "<Figure size 640x480 with 1 Axes>"
      ]
     },
     "metadata": {},
     "output_type": "display_data"
    }
   ],
   "source": [
    "plt.scatter(x[:,0], x[:,1], c = predictedclusters)\n",
    "plt.scatter(kmeans.cluster_centers_[:,0], kmeans.cluster_centers_[:,1], c = 'r', marker = 'X')\n",
    "plt.xlabel(\"Sepal Length\")\n",
    "plt.ylabel(\"Petal Width\")\n",
    "plt.title(\"KMeans clustering on Iris dataset\")\n",
    "plt.show()"
   ]
  },
  {
   "cell_type": "code",
   "execution_count": 16,
   "id": "fa50ffb1",
   "metadata": {},
   "outputs": [
    {
     "name": "stdout",
     "output_type": "stream",
     "text": [
      "Enter the sepal length4\n",
      "Enter the petal width5\n",
      "setosa\n"
     ]
    }
   ],
   "source": [
    "sepal_length = float(input(\"Enter the sepal length\"))\n",
    "petal_width = float(input(\"Enter the petal width\"))\n",
    "names = iris.target_names\n",
    "\n",
    "i = int(kmeans.predict([[sepal_length, petal_width]]))\n",
    "print(names[i])"
   ]
  },
  {
   "cell_type": "code",
   "execution_count": 17,
   "id": "be9b7611",
   "metadata": {},
   "outputs": [],
   "source": [
    "from sklearn.datasets import load_wine"
   ]
  },
  {
   "cell_type": "code",
   "execution_count": 18,
   "id": "0e1b3ab2",
   "metadata": {},
   "outputs": [],
   "source": [
    "winedata = load_wine()"
   ]
  },
  {
   "cell_type": "code",
   "execution_count": 19,
   "id": "7db41c26",
   "metadata": {},
   "outputs": [],
   "source": [
    "X = winedata.data"
   ]
  },
  {
   "cell_type": "code",
   "execution_count": 20,
   "id": "6e469ad7",
   "metadata": {},
   "outputs": [
    {
     "data": {
      "text/plain": [
       "{'data': array([[1.423e+01, 1.710e+00, 2.430e+00, ..., 1.040e+00, 3.920e+00,\n",
       "         1.065e+03],\n",
       "        [1.320e+01, 1.780e+00, 2.140e+00, ..., 1.050e+00, 3.400e+00,\n",
       "         1.050e+03],\n",
       "        [1.316e+01, 2.360e+00, 2.670e+00, ..., 1.030e+00, 3.170e+00,\n",
       "         1.185e+03],\n",
       "        ...,\n",
       "        [1.327e+01, 4.280e+00, 2.260e+00, ..., 5.900e-01, 1.560e+00,\n",
       "         8.350e+02],\n",
       "        [1.317e+01, 2.590e+00, 2.370e+00, ..., 6.000e-01, 1.620e+00,\n",
       "         8.400e+02],\n",
       "        [1.413e+01, 4.100e+00, 2.740e+00, ..., 6.100e-01, 1.600e+00,\n",
       "         5.600e+02]]),\n",
       " 'target': array([0, 0, 0, 0, 0, 0, 0, 0, 0, 0, 0, 0, 0, 0, 0, 0, 0, 0, 0, 0, 0, 0,\n",
       "        0, 0, 0, 0, 0, 0, 0, 0, 0, 0, 0, 0, 0, 0, 0, 0, 0, 0, 0, 0, 0, 0,\n",
       "        0, 0, 0, 0, 0, 0, 0, 0, 0, 0, 0, 0, 0, 0, 0, 1, 1, 1, 1, 1, 1, 1,\n",
       "        1, 1, 1, 1, 1, 1, 1, 1, 1, 1, 1, 1, 1, 1, 1, 1, 1, 1, 1, 1, 1, 1,\n",
       "        1, 1, 1, 1, 1, 1, 1, 1, 1, 1, 1, 1, 1, 1, 1, 1, 1, 1, 1, 1, 1, 1,\n",
       "        1, 1, 1, 1, 1, 1, 1, 1, 1, 1, 1, 1, 1, 1, 1, 1, 1, 1, 1, 1, 2, 2,\n",
       "        2, 2, 2, 2, 2, 2, 2, 2, 2, 2, 2, 2, 2, 2, 2, 2, 2, 2, 2, 2, 2, 2,\n",
       "        2, 2, 2, 2, 2, 2, 2, 2, 2, 2, 2, 2, 2, 2, 2, 2, 2, 2, 2, 2, 2, 2,\n",
       "        2, 2]),\n",
       " 'frame': None,\n",
       " 'target_names': array(['class_0', 'class_1', 'class_2'], dtype='<U7'),\n",
       " 'DESCR': '.. _wine_dataset:\\n\\nWine recognition dataset\\n------------------------\\n\\n**Data Set Characteristics:**\\n\\n    :Number of Instances: 178\\n    :Number of Attributes: 13 numeric, predictive attributes and the class\\n    :Attribute Information:\\n \\t\\t- Alcohol\\n \\t\\t- Malic acid\\n \\t\\t- Ash\\n\\t\\t- Alcalinity of ash  \\n \\t\\t- Magnesium\\n\\t\\t- Total phenols\\n \\t\\t- Flavanoids\\n \\t\\t- Nonflavanoid phenols\\n \\t\\t- Proanthocyanins\\n\\t\\t- Color intensity\\n \\t\\t- Hue\\n \\t\\t- OD280/OD315 of diluted wines\\n \\t\\t- Proline\\n\\n    - class:\\n            - class_0\\n            - class_1\\n            - class_2\\n\\t\\t\\n    :Summary Statistics:\\n    \\n    ============================= ==== ===== ======= =====\\n                                   Min   Max   Mean     SD\\n    ============================= ==== ===== ======= =====\\n    Alcohol:                      11.0  14.8    13.0   0.8\\n    Malic Acid:                   0.74  5.80    2.34  1.12\\n    Ash:                          1.36  3.23    2.36  0.27\\n    Alcalinity of Ash:            10.6  30.0    19.5   3.3\\n    Magnesium:                    70.0 162.0    99.7  14.3\\n    Total Phenols:                0.98  3.88    2.29  0.63\\n    Flavanoids:                   0.34  5.08    2.03  1.00\\n    Nonflavanoid Phenols:         0.13  0.66    0.36  0.12\\n    Proanthocyanins:              0.41  3.58    1.59  0.57\\n    Colour Intensity:              1.3  13.0     5.1   2.3\\n    Hue:                          0.48  1.71    0.96  0.23\\n    OD280/OD315 of diluted wines: 1.27  4.00    2.61  0.71\\n    Proline:                       278  1680     746   315\\n    ============================= ==== ===== ======= =====\\n\\n    :Missing Attribute Values: None\\n    :Class Distribution: class_0 (59), class_1 (71), class_2 (48)\\n    :Creator: R.A. Fisher\\n    :Donor: Michael Marshall (MARSHALL%PLU@io.arc.nasa.gov)\\n    :Date: July, 1988\\n\\nThis is a copy of UCI ML Wine recognition datasets.\\nhttps://archive.ics.uci.edu/ml/machine-learning-databases/wine/wine.data\\n\\nThe data is the results of a chemical analysis of wines grown in the same\\nregion in Italy by three different cultivators. There are thirteen different\\nmeasurements taken for different constituents found in the three types of\\nwine.\\n\\nOriginal Owners: \\n\\nForina, M. et al, PARVUS - \\nAn Extendible Package for Data Exploration, Classification and Correlation. \\nInstitute of Pharmaceutical and Food Analysis and Technologies,\\nVia Brigata Salerno, 16147 Genoa, Italy.\\n\\nCitation:\\n\\nLichman, M. (2013). UCI Machine Learning Repository\\n[https://archive.ics.uci.edu/ml]. Irvine, CA: University of California,\\nSchool of Information and Computer Science. \\n\\n.. topic:: References\\n\\n  (1) S. Aeberhard, D. Coomans and O. de Vel, \\n  Comparison of Classifiers in High Dimensional Settings, \\n  Tech. Rep. no. 92-02, (1992), Dept. of Computer Science and Dept. of  \\n  Mathematics and Statistics, James Cook University of North Queensland. \\n  (Also submitted to Technometrics). \\n\\n  The data was used with many others for comparing various \\n  classifiers. The classes are separable, though only RDA \\n  has achieved 100% correct classification. \\n  (RDA : 100%, QDA 99.4%, LDA 98.9%, 1NN 96.1% (z-transformed data)) \\n  (All results using the leave-one-out technique) \\n\\n  (2) S. Aeberhard, D. Coomans and O. de Vel, \\n  \"THE CLASSIFICATION PERFORMANCE OF RDA\" \\n  Tech. Rep. no. 92-01, (1992), Dept. of Computer Science and Dept. of \\n  Mathematics and Statistics, James Cook University of North Queensland. \\n  (Also submitted to Journal of Chemometrics).\\n',\n",
       " 'feature_names': ['alcohol',\n",
       "  'malic_acid',\n",
       "  'ash',\n",
       "  'alcalinity_of_ash',\n",
       "  'magnesium',\n",
       "  'total_phenols',\n",
       "  'flavanoids',\n",
       "  'nonflavanoid_phenols',\n",
       "  'proanthocyanins',\n",
       "  'color_intensity',\n",
       "  'hue',\n",
       "  'od280/od315_of_diluted_wines',\n",
       "  'proline']}"
      ]
     },
     "execution_count": 20,
     "metadata": {},
     "output_type": "execute_result"
    }
   ],
   "source": [
    "winedata"
   ]
  },
  {
   "cell_type": "code",
   "execution_count": 21,
   "id": "e7068aed",
   "metadata": {},
   "outputs": [],
   "source": [
    "Y = winedata.target_names"
   ]
  },
  {
   "cell_type": "code",
   "execution_count": 22,
   "id": "8a9eb186",
   "metadata": {},
   "outputs": [
    {
     "data": {
      "text/plain": [
       "array([[1.423e+01, 1.710e+00, 2.430e+00, ..., 1.040e+00, 3.920e+00,\n",
       "        1.065e+03],\n",
       "       [1.320e+01, 1.780e+00, 2.140e+00, ..., 1.050e+00, 3.400e+00,\n",
       "        1.050e+03],\n",
       "       [1.316e+01, 2.360e+00, 2.670e+00, ..., 1.030e+00, 3.170e+00,\n",
       "        1.185e+03],\n",
       "       ...,\n",
       "       [1.327e+01, 4.280e+00, 2.260e+00, ..., 5.900e-01, 1.560e+00,\n",
       "        8.350e+02],\n",
       "       [1.317e+01, 2.590e+00, 2.370e+00, ..., 6.000e-01, 1.620e+00,\n",
       "        8.400e+02],\n",
       "       [1.413e+01, 4.100e+00, 2.740e+00, ..., 6.100e-01, 1.600e+00,\n",
       "        5.600e+02]])"
      ]
     },
     "execution_count": 22,
     "metadata": {},
     "output_type": "execute_result"
    }
   ],
   "source": [
    "X"
   ]
  },
  {
   "cell_type": "code",
   "execution_count": 23,
   "id": "50394a4d",
   "metadata": {},
   "outputs": [
    {
     "data": {
      "text/plain": [
       "array(['class_0', 'class_1', 'class_2'], dtype='<U7')"
      ]
     },
     "execution_count": 23,
     "metadata": {},
     "output_type": "execute_result"
    }
   ],
   "source": [
    "Y"
   ]
  },
  {
   "cell_type": "code",
   "execution_count": 24,
   "id": "44506ae1",
   "metadata": {},
   "outputs": [],
   "source": [
    "x = winedata.data[:,[0,6]]"
   ]
  },
  {
   "cell_type": "code",
   "execution_count": 25,
   "id": "fcad94ad",
   "metadata": {},
   "outputs": [],
   "source": [
    "kmeans = KMeans(n_clusters = 3, random_state = 42)"
   ]
  },
  {
   "cell_type": "code",
   "execution_count": 26,
   "id": "1a6591ba",
   "metadata": {},
   "outputs": [
    {
     "name": "stderr",
     "output_type": "stream",
     "text": [
      "/usr/lib/python3.10/site-packages/sklearn/cluster/_kmeans.py:870: FutureWarning: The default value of `n_init` will change from 10 to 'auto' in 1.4. Set the value of `n_init` explicitly to suppress the warning\n",
      "  warnings.warn(\n"
     ]
    },
    {
     "data": {
      "text/html": [
       "<style>#sk-container-id-3 {color: black;background-color: white;}#sk-container-id-3 pre{padding: 0;}#sk-container-id-3 div.sk-toggleable {background-color: white;}#sk-container-id-3 label.sk-toggleable__label {cursor: pointer;display: block;width: 100%;margin-bottom: 0;padding: 0.3em;box-sizing: border-box;text-align: center;}#sk-container-id-3 label.sk-toggleable__label-arrow:before {content: \"▸\";float: left;margin-right: 0.25em;color: #696969;}#sk-container-id-3 label.sk-toggleable__label-arrow:hover:before {color: black;}#sk-container-id-3 div.sk-estimator:hover label.sk-toggleable__label-arrow:before {color: black;}#sk-container-id-3 div.sk-toggleable__content {max-height: 0;max-width: 0;overflow: hidden;text-align: left;background-color: #f0f8ff;}#sk-container-id-3 div.sk-toggleable__content pre {margin: 0.2em;color: black;border-radius: 0.25em;background-color: #f0f8ff;}#sk-container-id-3 input.sk-toggleable__control:checked~div.sk-toggleable__content {max-height: 200px;max-width: 100%;overflow: auto;}#sk-container-id-3 input.sk-toggleable__control:checked~label.sk-toggleable__label-arrow:before {content: \"▾\";}#sk-container-id-3 div.sk-estimator input.sk-toggleable__control:checked~label.sk-toggleable__label {background-color: #d4ebff;}#sk-container-id-3 div.sk-label input.sk-toggleable__control:checked~label.sk-toggleable__label {background-color: #d4ebff;}#sk-container-id-3 input.sk-hidden--visually {border: 0;clip: rect(1px 1px 1px 1px);clip: rect(1px, 1px, 1px, 1px);height: 1px;margin: -1px;overflow: hidden;padding: 0;position: absolute;width: 1px;}#sk-container-id-3 div.sk-estimator {font-family: monospace;background-color: #f0f8ff;border: 1px dotted black;border-radius: 0.25em;box-sizing: border-box;margin-bottom: 0.5em;}#sk-container-id-3 div.sk-estimator:hover {background-color: #d4ebff;}#sk-container-id-3 div.sk-parallel-item::after {content: \"\";width: 100%;border-bottom: 1px solid gray;flex-grow: 1;}#sk-container-id-3 div.sk-label:hover label.sk-toggleable__label {background-color: #d4ebff;}#sk-container-id-3 div.sk-serial::before {content: \"\";position: absolute;border-left: 1px solid gray;box-sizing: border-box;top: 0;bottom: 0;left: 50%;z-index: 0;}#sk-container-id-3 div.sk-serial {display: flex;flex-direction: column;align-items: center;background-color: white;padding-right: 0.2em;padding-left: 0.2em;position: relative;}#sk-container-id-3 div.sk-item {position: relative;z-index: 1;}#sk-container-id-3 div.sk-parallel {display: flex;align-items: stretch;justify-content: center;background-color: white;position: relative;}#sk-container-id-3 div.sk-item::before, #sk-container-id-3 div.sk-parallel-item::before {content: \"\";position: absolute;border-left: 1px solid gray;box-sizing: border-box;top: 0;bottom: 0;left: 50%;z-index: -1;}#sk-container-id-3 div.sk-parallel-item {display: flex;flex-direction: column;z-index: 1;position: relative;background-color: white;}#sk-container-id-3 div.sk-parallel-item:first-child::after {align-self: flex-end;width: 50%;}#sk-container-id-3 div.sk-parallel-item:last-child::after {align-self: flex-start;width: 50%;}#sk-container-id-3 div.sk-parallel-item:only-child::after {width: 0;}#sk-container-id-3 div.sk-dashed-wrapped {border: 1px dashed gray;margin: 0 0.4em 0.5em 0.4em;box-sizing: border-box;padding-bottom: 0.4em;background-color: white;}#sk-container-id-3 div.sk-label label {font-family: monospace;font-weight: bold;display: inline-block;line-height: 1.2em;}#sk-container-id-3 div.sk-label-container {text-align: center;}#sk-container-id-3 div.sk-container {/* jupyter's `normalize.less` sets `[hidden] { display: none; }` but bootstrap.min.css set `[hidden] { display: none !important; }` so we also need the `!important` here to be able to override the default hidden behavior on the sphinx rendered scikit-learn.org. See: https://github.com/scikit-learn/scikit-learn/issues/21755 */display: inline-block !important;position: relative;}#sk-container-id-3 div.sk-text-repr-fallback {display: none;}</style><div id=\"sk-container-id-3\" class=\"sk-top-container\"><div class=\"sk-text-repr-fallback\"><pre>KMeans(n_clusters=3, random_state=42)</pre><b>In a Jupyter environment, please rerun this cell to show the HTML representation or trust the notebook. <br />On GitHub, the HTML representation is unable to render, please try loading this page with nbviewer.org.</b></div><div class=\"sk-container\" hidden><div class=\"sk-item\"><div class=\"sk-estimator sk-toggleable\"><input class=\"sk-toggleable__control sk-hidden--visually\" id=\"sk-estimator-id-3\" type=\"checkbox\" checked><label for=\"sk-estimator-id-3\" class=\"sk-toggleable__label sk-toggleable__label-arrow\">KMeans</label><div class=\"sk-toggleable__content\"><pre>KMeans(n_clusters=3, random_state=42)</pre></div></div></div></div></div>"
      ],
      "text/plain": [
       "KMeans(n_clusters=3, random_state=42)"
      ]
     },
     "execution_count": 26,
     "metadata": {},
     "output_type": "execute_result"
    }
   ],
   "source": [
    "kmeans.fit(x)"
   ]
  },
  {
   "cell_type": "code",
   "execution_count": 27,
   "id": "b75bdde0",
   "metadata": {},
   "outputs": [],
   "source": [
    "predictionclusters = kmeans.predict(x)"
   ]
  },
  {
   "cell_type": "code",
   "execution_count": 28,
   "id": "10607f3e",
   "metadata": {},
   "outputs": [
    {
     "data": {
      "image/png": "[encoded data removed]",
      "text/plain": [
       "<Figure size 640x480 with 1 Axes>"
      ]
     },
     "metadata": {},
     "output_type": "display_data"
    }
   ],
   "source": [
    "plt.scatter(x[:,0], x[:,1], c = predictionclusters)\n",
    "plt.scatter(kmeans.cluster_centers_[:,0], kmeans.cluster_centers_[:,1], c = 'r', marker = 'X')\n",
    "plt.xlabel(\"Sepal Length\")\n",
    "plt.ylabel(\"Petal Width\")\n",
    "plt.title(\"KMeans clustering on Wine dataset\")\n",
    "plt.show()"
   ]
  },
  {
   "cell_type": "code",
   "execution_count": 29,
   "id": "4ff3d117",
   "metadata": {},
   "outputs": [],
   "source": [
    "np.random.seed(0)\n",
    "n_students = 100\n",
    "marks_obtained = np.random.randint(0, 100, n_students)\n",
    "attendance_percentage = np.random.randint(0, 100, n_students)\n",
    "assignment_score = np.random.randint(0, 100, n_students)\n",
    "overall_score = marks_obtained * 0.4 + attendance_percentage * 0.4 + assignment_score * 0.2"
   ]
  },
  {
   "cell_type": "code",
   "execution_count": 30,
   "id": "5944c70f",
   "metadata": {},
   "outputs": [],
   "source": [
    "df = pd.DataFrame(\n",
    "    {\n",
    "        \"Marks\":marks_obtained,\n",
    "        \"Attendance(%)\":attendance_percentage,\n",
    "        \"Assignment score\":assignment_score,\n",
    "        \"Total\":overall_score\n",
    "    })"
   ]
  },
  {
   "cell_type": "code",
   "execution_count": 31,
   "id": "e90cbe09",
   "metadata": {},
   "outputs": [
    {
     "data": {
      "text/html": [
       "<div>\n",
       "<style scoped>\n",
       "    .dataframe tbody tr th:only-of-type {\n",
       "        vertical-align: middle;\n",
       "    }\n",
       "\n",
       "    .dataframe tbody tr th {\n",
       "        vertical-align: top;\n",
       "    }\n",
       "\n",
       "    .dataframe thead th {\n",
       "        text-align: right;\n",
       "    }\n",
       "</style>\n",
       "<table border=\"1\" class=\"dataframe\">\n",
       "  <thead>\n",
       "    <tr style=\"text-align: right;\">\n",
       "      <th></th>\n",
       "      <th>Marks</th>\n",
       "      <th>Attendance(%)</th>\n",
       "      <th>Assignment score</th>\n",
       "      <th>Total</th>\n",
       "    </tr>\n",
       "  </thead>\n",
       "  <tbody>\n",
       "    <tr>\n",
       "      <th>0</th>\n",
       "      <td>44</td>\n",
       "      <td>49</td>\n",
       "      <td>31</td>\n",
       "      <td>43.4</td>\n",
       "    </tr>\n",
       "    <tr>\n",
       "      <th>1</th>\n",
       "      <td>47</td>\n",
       "      <td>69</td>\n",
       "      <td>13</td>\n",
       "      <td>49.0</td>\n",
       "    </tr>\n",
       "    <tr>\n",
       "      <th>2</th>\n",
       "      <td>64</td>\n",
       "      <td>41</td>\n",
       "      <td>71</td>\n",
       "      <td>56.2</td>\n",
       "    </tr>\n",
       "    <tr>\n",
       "      <th>3</th>\n",
       "      <td>67</td>\n",
       "      <td>35</td>\n",
       "      <td>56</td>\n",
       "      <td>52.0</td>\n",
       "    </tr>\n",
       "    <tr>\n",
       "      <th>4</th>\n",
       "      <td>67</td>\n",
       "      <td>64</td>\n",
       "      <td>24</td>\n",
       "      <td>57.2</td>\n",
       "    </tr>\n",
       "    <tr>\n",
       "      <th>...</th>\n",
       "      <td>...</td>\n",
       "      <td>...</td>\n",
       "      <td>...</td>\n",
       "      <td>...</td>\n",
       "    </tr>\n",
       "    <tr>\n",
       "      <th>95</th>\n",
       "      <td>23</td>\n",
       "      <td>83</td>\n",
       "      <td>30</td>\n",
       "      <td>48.4</td>\n",
       "    </tr>\n",
       "    <tr>\n",
       "      <th>96</th>\n",
       "      <td>79</td>\n",
       "      <td>33</td>\n",
       "      <td>29</td>\n",
       "      <td>50.6</td>\n",
       "    </tr>\n",
       "    <tr>\n",
       "      <th>97</th>\n",
       "      <td>13</td>\n",
       "      <td>32</td>\n",
       "      <td>33</td>\n",
       "      <td>24.6</td>\n",
       "    </tr>\n",
       "    <tr>\n",
       "      <th>98</th>\n",
       "      <td>85</td>\n",
       "      <td>70</td>\n",
       "      <td>18</td>\n",
       "      <td>65.6</td>\n",
       "    </tr>\n",
       "    <tr>\n",
       "      <th>99</th>\n",
       "      <td>48</td>\n",
       "      <td>85</td>\n",
       "      <td>17</td>\n",
       "      <td>56.6</td>\n",
       "    </tr>\n",
       "  </tbody>\n",
       "</table>\n",
       "<p>100 rows × 4 columns</p>\n",
       "</div>"
      ],
      "text/plain": [
       "    Marks  Attendance(%)  Assignment score  Total\n",
       "0      44             49                31   43.4\n",
       "1      47             69                13   49.0\n",
       "2      64             41                71   56.2\n",
       "3      67             35                56   52.0\n",
       "4      67             64                24   57.2\n",
       "..    ...            ...               ...    ...\n",
       "95     23             83                30   48.4\n",
       "96     79             33                29   50.6\n",
       "97     13             32                33   24.6\n",
       "98     85             70                18   65.6\n",
       "99     48             85                17   56.6\n",
       "\n",
       "[100 rows x 4 columns]"
      ]
     },
     "execution_count": 31,
     "metadata": {},
     "output_type": "execute_result"
    }
   ],
   "source": [
    "df"
   ]
  },
  {
   "cell_type": "code",
   "execution_count": 32,
   "id": "e669c710",
   "metadata": {},
   "outputs": [
    {
     "data": {
      "text/html": [
       "<div>\n",
       "<style scoped>\n",
       "    .dataframe tbody tr th:only-of-type {\n",
       "        vertical-align: middle;\n",
       "    }\n",
       "\n",
       "    .dataframe tbody tr th {\n",
       "        vertical-align: top;\n",
       "    }\n",
       "\n",
       "    .dataframe thead th {\n",
       "        text-align: right;\n",
       "    }\n",
       "</style>\n",
       "<table border=\"1\" class=\"dataframe\">\n",
       "  <thead>\n",
       "    <tr style=\"text-align: right;\">\n",
       "      <th></th>\n",
       "      <th>Marks</th>\n",
       "      <th>Attendance(%)</th>\n",
       "      <th>Assignment score</th>\n",
       "      <th>Total</th>\n",
       "      <th>cluster</th>\n",
       "    </tr>\n",
       "  </thead>\n",
       "  <tbody>\n",
       "    <tr>\n",
       "      <th>0</th>\n",
       "      <td>44</td>\n",
       "      <td>49</td>\n",
       "      <td>31</td>\n",
       "      <td>43.4</td>\n",
       "      <td>1</td>\n",
       "    </tr>\n",
       "    <tr>\n",
       "      <th>1</th>\n",
       "      <td>47</td>\n",
       "      <td>69</td>\n",
       "      <td>13</td>\n",
       "      <td>49.0</td>\n",
       "      <td>1</td>\n",
       "    </tr>\n",
       "    <tr>\n",
       "      <th>2</th>\n",
       "      <td>64</td>\n",
       "      <td>41</td>\n",
       "      <td>71</td>\n",
       "      <td>56.2</td>\n",
       "      <td>1</td>\n",
       "    </tr>\n",
       "    <tr>\n",
       "      <th>3</th>\n",
       "      <td>67</td>\n",
       "      <td>35</td>\n",
       "      <td>56</td>\n",
       "      <td>52.0</td>\n",
       "      <td>1</td>\n",
       "    </tr>\n",
       "    <tr>\n",
       "      <th>4</th>\n",
       "      <td>67</td>\n",
       "      <td>64</td>\n",
       "      <td>24</td>\n",
       "      <td>57.2</td>\n",
       "      <td>1</td>\n",
       "    </tr>\n",
       "    <tr>\n",
       "      <th>...</th>\n",
       "      <td>...</td>\n",
       "      <td>...</td>\n",
       "      <td>...</td>\n",
       "      <td>...</td>\n",
       "      <td>...</td>\n",
       "    </tr>\n",
       "    <tr>\n",
       "      <th>95</th>\n",
       "      <td>23</td>\n",
       "      <td>83</td>\n",
       "      <td>30</td>\n",
       "      <td>48.4</td>\n",
       "      <td>1</td>\n",
       "    </tr>\n",
       "    <tr>\n",
       "      <th>96</th>\n",
       "      <td>79</td>\n",
       "      <td>33</td>\n",
       "      <td>29</td>\n",
       "      <td>50.6</td>\n",
       "      <td>1</td>\n",
       "    </tr>\n",
       "    <tr>\n",
       "      <th>97</th>\n",
       "      <td>13</td>\n",
       "      <td>32</td>\n",
       "      <td>33</td>\n",
       "      <td>24.6</td>\n",
       "      <td>0</td>\n",
       "    </tr>\n",
       "    <tr>\n",
       "      <th>98</th>\n",
       "      <td>85</td>\n",
       "      <td>70</td>\n",
       "      <td>18</td>\n",
       "      <td>65.6</td>\n",
       "      <td>1</td>\n",
       "    </tr>\n",
       "    <tr>\n",
       "      <th>99</th>\n",
       "      <td>48</td>\n",
       "      <td>85</td>\n",
       "      <td>17</td>\n",
       "      <td>56.6</td>\n",
       "      <td>1</td>\n",
       "    </tr>\n",
       "  </tbody>\n",
       "</table>\n",
       "<p>100 rows × 5 columns</p>\n",
       "</div>"
      ],
      "text/plain": [
       "    Marks  Attendance(%)  Assignment score  Total  cluster\n",
       "0      44             49                31   43.4        1\n",
       "1      47             69                13   49.0        1\n",
       "2      64             41                71   56.2        1\n",
       "3      67             35                56   52.0        1\n",
       "4      67             64                24   57.2        1\n",
       "..    ...            ...               ...    ...      ...\n",
       "95     23             83                30   48.4        1\n",
       "96     79             33                29   50.6        1\n",
       "97     13             32                33   24.6        0\n",
       "98     85             70                18   65.6        1\n",
       "99     48             85                17   56.6        1\n",
       "\n",
       "[100 rows x 5 columns]"
      ]
     },
     "execution_count": 32,
     "metadata": {},
     "output_type": "execute_result"
    }
   ],
   "source": [
    "df[\"cluster\"] = np.where(df[\"Total\"] < 40, 0, np.where(df[\"Total\"] < 70, 1, 2))\n",
    "df"
   ]
  },
  {
   "cell_type": "code",
   "execution_count": 33,
   "id": "f243aa50",
   "metadata": {},
   "outputs": [
    {
     "data": {
      "text/html": [
       "<div>\n",
       "<style scoped>\n",
       "    .dataframe tbody tr th:only-of-type {\n",
       "        vertical-align: middle;\n",
       "    }\n",
       "\n",
       "    .dataframe tbody tr th {\n",
       "        vertical-align: top;\n",
       "    }\n",
       "\n",
       "    .dataframe thead th {\n",
       "        text-align: right;\n",
       "    }\n",
       "</style>\n",
       "<table border=\"1\" class=\"dataframe\">\n",
       "  <thead>\n",
       "    <tr style=\"text-align: right;\">\n",
       "      <th></th>\n",
       "      <th>Marks</th>\n",
       "      <th>Attendance(%)</th>\n",
       "      <th>Assignment score</th>\n",
       "      <th>Total</th>\n",
       "      <th>cluster</th>\n",
       "    </tr>\n",
       "  </thead>\n",
       "  <tbody>\n",
       "    <tr>\n",
       "      <th>0</th>\n",
       "      <td>44</td>\n",
       "      <td>49</td>\n",
       "      <td>31</td>\n",
       "      <td>43.4</td>\n",
       "      <td>1</td>\n",
       "    </tr>\n",
       "    <tr>\n",
       "      <th>1</th>\n",
       "      <td>47</td>\n",
       "      <td>69</td>\n",
       "      <td>13</td>\n",
       "      <td>49.0</td>\n",
       "      <td>1</td>\n",
       "    </tr>\n",
       "    <tr>\n",
       "      <th>2</th>\n",
       "      <td>64</td>\n",
       "      <td>41</td>\n",
       "      <td>71</td>\n",
       "      <td>56.2</td>\n",
       "      <td>1</td>\n",
       "    </tr>\n",
       "    <tr>\n",
       "      <th>3</th>\n",
       "      <td>67</td>\n",
       "      <td>35</td>\n",
       "      <td>56</td>\n",
       "      <td>52.0</td>\n",
       "      <td>1</td>\n",
       "    </tr>\n",
       "    <tr>\n",
       "      <th>4</th>\n",
       "      <td>67</td>\n",
       "      <td>64</td>\n",
       "      <td>24</td>\n",
       "      <td>57.2</td>\n",
       "      <td>1</td>\n",
       "    </tr>\n",
       "    <tr>\n",
       "      <th>...</th>\n",
       "      <td>...</td>\n",
       "      <td>...</td>\n",
       "      <td>...</td>\n",
       "      <td>...</td>\n",
       "      <td>...</td>\n",
       "    </tr>\n",
       "    <tr>\n",
       "      <th>95</th>\n",
       "      <td>23</td>\n",
       "      <td>83</td>\n",
       "      <td>30</td>\n",
       "      <td>48.4</td>\n",
       "      <td>1</td>\n",
       "    </tr>\n",
       "    <tr>\n",
       "      <th>96</th>\n",
       "      <td>79</td>\n",
       "      <td>33</td>\n",
       "      <td>29</td>\n",
       "      <td>50.6</td>\n",
       "      <td>1</td>\n",
       "    </tr>\n",
       "    <tr>\n",
       "      <th>97</th>\n",
       "      <td>13</td>\n",
       "      <td>32</td>\n",
       "      <td>33</td>\n",
       "      <td>24.6</td>\n",
       "      <td>0</td>\n",
       "    </tr>\n",
       "    <tr>\n",
       "      <th>98</th>\n",
       "      <td>85</td>\n",
       "      <td>70</td>\n",
       "      <td>18</td>\n",
       "      <td>65.6</td>\n",
       "      <td>1</td>\n",
       "    </tr>\n",
       "    <tr>\n",
       "      <th>99</th>\n",
       "      <td>48</td>\n",
       "      <td>85</td>\n",
       "      <td>17</td>\n",
       "      <td>56.6</td>\n",
       "      <td>1</td>\n",
       "    </tr>\n",
       "  </tbody>\n",
       "</table>\n",
       "<p>100 rows × 5 columns</p>\n",
       "</div>"
      ],
      "text/plain": [
       "    Marks  Attendance(%)  Assignment score  Total  cluster\n",
       "0      44             49                31   43.4        1\n",
       "1      47             69                13   49.0        1\n",
       "2      64             41                71   56.2        1\n",
       "3      67             35                56   52.0        1\n",
       "4      67             64                24   57.2        1\n",
       "..    ...            ...               ...    ...      ...\n",
       "95     23             83                30   48.4        1\n",
       "96     79             33                29   50.6        1\n",
       "97     13             32                33   24.6        0\n",
       "98     85             70                18   65.6        1\n",
       "99     48             85                17   56.6        1\n",
       "\n",
       "[100 rows x 5 columns]"
      ]
     },
     "execution_count": 33,
     "metadata": {},
     "output_type": "execute_result"
    }
   ],
   "source": [
    "df"
   ]
  },
  {
   "cell_type": "code",
   "execution_count": 34,
   "id": "1364eca6",
   "metadata": {},
   "outputs": [
    {
     "data": {
      "text/plain": [
       "<matplotlib.collections.PathCollection at 0x7fcf1c601180>"
      ]
     },
     "execution_count": 34,
     "metadata": {},
     "output_type": "execute_result"
    },
    {
     "data": {
      "image/png": "[encoded data removed]",
      "text/plain": [
       "<Figure size 640x480 with 1 Axes>"
      ]
     },
     "metadata": {},
     "output_type": "display_data"
    }
   ],
   "source": [
    "plt.scatter(df[\"Total\"], df[\"cluster\"])"
   ]
  },
  {
   "cell_type": "code",
   "execution_count": 35,
   "id": "c83cedef",
   "metadata": {},
   "outputs": [],
   "source": [
    "newdata = pd.DataFrame({\"Marks\":[10], \"Attendance (%)\":[35], \"Assignment score\":[8]})"
   ]
  },
  {
   "cell_type": "code",
   "execution_count": 36,
   "id": "b255c86c",
   "metadata": {},
   "outputs": [],
   "source": [
    "new_overall_score = int(newdata[\"Marks\"] * 0.4 + newdata[\"Attendance (%)\"] * 0.4 + newdata[\"Assignment score\"] * 0.2)\n",
    "new_student_cluster = np.where(new_overall_score < 40, 0, np.where(new_overall_score < 70, 1, 2))"
   ]
  },
  {
   "cell_type": "code",
   "execution_count": 51,
   "id": "02d1efba",
   "metadata": {},
   "outputs": [],
   "source": [
    "from gensim.summarization import summarize"
   ]
  },
  {
   "cell_type": "code",
   "execution_count": 52,
   "id": "cdc6781c",
   "metadata": {},
   "outputs": [],
   "source": [
    "para =\" “We should start back,” Gared urged as the woods began to grow dark around them.“The wildlings are dead.”“Do the dead frighten you?” Ser Waymar Royce asked with just the hint of a smile.Gared did not rise to the bait. He was an old man, past fifty, and he had seen the lordlingscome and go. “Dead is dead,” he said. “We have no business with the dead.”“Are they dead?” Royce asked softly. “What proof have we?”“Will saw them,” Gared said. “If he says they are dead, that’s proof enough for me.”Will had known they would drag him into the quarrel sooner or later. He wished it hadbeen later rather than sooner. “My mother told me that dead men sing no songs,” he put in.“My wet nurse said the same thing, Will,” Royce replied. “Never believe anything youhear at a woman’s tit. There are things to be learned even from the dead.” His voice echoed,too loud in the twilit forest.“We have a long ride before us,” Gared pointed out. “Eight days, maybe nine. And nightis falling.”Ser Waymar Royce glanced at the sky with disinterest. “It does that every day about thistime. Are you unmanned by the dark, Gared?”Will could see the tightness around Gared’s mouth, the barely suppressed anger in his eyesunder the thick black hood of his cloak. Gared had spent forty years in the Night’s Watch,man and boy, and he was not accustomed to being made light of. Yet it was more than that.Under the wounded pride, Will could sense something else in the older man. You could tasteit; a nervous tension that came perilous close to fear.Will shared his unease. He had been four years on the Wall. The first time he had beensent beyond, all the old stories had come rushing back, and his bowels had turned to water.He had laughed about it afterward. He was a veteran of a hundred rangings by now, and theendless dark wilderness that the southron called the haunted forest had no more terrors forhim.Until tonight. Something was different tonight.\""
   ]
  },
  {
   "cell_type": "code",
   "execution_count": 53,
   "id": "338169fb",
   "metadata": {},
   "outputs": [
    {
     "ename": "AttributeError",
     "evalue": "'Dictionary' object has no attribute 'add_lifecycle_event'",
     "output_type": "error",
     "traceback": [
      "\u001b[0;31m---------------------------------------------------------------------------\u001b[0m",
      "\u001b[0;31mAttributeError\u001b[0m                            Traceback (most recent call last)",
      "Cell \u001b[0;32mIn[53], line 1\u001b[0m\n\u001b[0;32m----> 1\u001b[0m \u001b[38;5;28msum\u001b[39m \u001b[38;5;241m=\u001b[39m \u001b[43msummarize\u001b[49m\u001b[43m(\u001b[49m\u001b[43mpara\u001b[49m\u001b[43m,\u001b[49m\u001b[43m \u001b[49m\u001b[43mratio\u001b[49m\u001b[43m \u001b[49m\u001b[38;5;241;43m=\u001b[39;49m\u001b[43m \u001b[49m\u001b[38;5;241;43m0.5\u001b[39;49m\u001b[43m)\u001b[49m\n",
      "File \u001b[0;32m/usr/lib/python3.10/site-packages/gensim/summarization/summarizer.py:434\u001b[0m, in \u001b[0;36msummarize\u001b[0;34m(text, ratio, word_count, split)\u001b[0m\n\u001b[1;32m    431\u001b[0m \u001b[38;5;28;01mif\u001b[39;00m \u001b[38;5;28mlen\u001b[39m(sentences) \u001b[38;5;241m<\u001b[39m INPUT_MIN_LENGTH:\n\u001b[1;32m    432\u001b[0m     logger\u001b[38;5;241m.\u001b[39mwarning(\u001b[38;5;124m\"\u001b[39m\u001b[38;5;124mInput text is expected to have at least \u001b[39m\u001b[38;5;132;01m%d\u001b[39;00m\u001b[38;5;124m sentences.\u001b[39m\u001b[38;5;124m\"\u001b[39m, INPUT_MIN_LENGTH)\n\u001b[0;32m--> 434\u001b[0m corpus \u001b[38;5;241m=\u001b[39m \u001b[43m_build_corpus\u001b[49m\u001b[43m(\u001b[49m\u001b[43msentences\u001b[49m\u001b[43m)\u001b[49m\n\u001b[1;32m    436\u001b[0m most_important_docs \u001b[38;5;241m=\u001b[39m summarize_corpus(corpus, ratio\u001b[38;5;241m=\u001b[39mratio \u001b[38;5;28;01mif\u001b[39;00m word_count \u001b[38;5;129;01mis\u001b[39;00m \u001b[38;5;28;01mNone\u001b[39;00m \u001b[38;5;28;01melse\u001b[39;00m \u001b[38;5;241m1\u001b[39m)\n\u001b[1;32m    438\u001b[0m \u001b[38;5;66;03m# If couldn't get important docs, the algorithm ends.\u001b[39;00m\n",
      "File \u001b[0;32m/usr/lib/python3.10/site-packages/gensim/summarization/summarizer.py:193\u001b[0m, in \u001b[0;36m_build_corpus\u001b[0;34m(sentences)\u001b[0m\n\u001b[1;32m    179\u001b[0m \u001b[38;5;250m\u001b[39m\u001b[38;5;124;03m\"\"\"Construct corpus from provided sentences.\u001b[39;00m\n\u001b[1;32m    180\u001b[0m \n\u001b[1;32m    181\u001b[0m \u001b[38;5;124;03mParameters\u001b[39;00m\n\u001b[0;32m   (...)\u001b[0m\n\u001b[1;32m    190\u001b[0m \n\u001b[1;32m    191\u001b[0m \u001b[38;5;124;03m\"\"\"\u001b[39;00m\n\u001b[1;32m    192\u001b[0m split_tokens \u001b[38;5;241m=\u001b[39m [sentence\u001b[38;5;241m.\u001b[39mtoken\u001b[38;5;241m.\u001b[39msplit() \u001b[38;5;28;01mfor\u001b[39;00m sentence \u001b[38;5;129;01min\u001b[39;00m sentences]\n\u001b[0;32m--> 193\u001b[0m dictionary \u001b[38;5;241m=\u001b[39m \u001b[43mDictionary\u001b[49m\u001b[43m(\u001b[49m\u001b[43msplit_tokens\u001b[49m\u001b[43m)\u001b[49m\n\u001b[1;32m    194\u001b[0m \u001b[38;5;28;01mreturn\u001b[39;00m [dictionary\u001b[38;5;241m.\u001b[39mdoc2bow(token) \u001b[38;5;28;01mfor\u001b[39;00m token \u001b[38;5;129;01min\u001b[39;00m split_tokens]\n",
      "File \u001b[0;32m/usr/lib/python3.10/site-packages/gensim/corpora/dictionary.py:79\u001b[0m, in \u001b[0;36m__init__\u001b[0;34m(self, documents, prune_at)\u001b[0m\n\u001b[1;32m     77\u001b[0m \u001b[38;5;28mself\u001b[39m\u001b[38;5;241m.\u001b[39mtoken2id \u001b[38;5;241m=\u001b[39m {}\n\u001b[1;32m     78\u001b[0m \u001b[38;5;28mself\u001b[39m\u001b[38;5;241m.\u001b[39mid2token \u001b[38;5;241m=\u001b[39m {}\n\u001b[0;32m---> 79\u001b[0m \u001b[38;5;28mself\u001b[39m\u001b[38;5;241m.\u001b[39mcfs \u001b[38;5;241m=\u001b[39m {}\n\u001b[1;32m     80\u001b[0m \u001b[38;5;28mself\u001b[39m\u001b[38;5;241m.\u001b[39mdfs \u001b[38;5;241m=\u001b[39m {}\n\u001b[1;32m     82\u001b[0m \u001b[38;5;28mself\u001b[39m\u001b[38;5;241m.\u001b[39mnum_docs \u001b[38;5;241m=\u001b[39m \u001b[38;5;241m0\u001b[39m\n",
      "\u001b[0;31mAttributeError\u001b[0m: 'Dictionary' object has no attribute 'add_lifecycle_event'"
     ]
    }
   ],
   "source": [
    "sum = summarize(para, ratio = 0.5)"
   ]
  },
  {
   "cell_type": "code",
   "execution_count": 46,
   "id": "9947e15d",
   "metadata": {},
   "outputs": [
    {
     "data": {
      "text/plain": [
       "<function sum(iterable, /, start=0)>"
      ]
     },
     "execution_count": 46,
     "metadata": {},
     "output_type": "execute_result"
    }
   ],
   "source": [
    "sum"
   ]
  }
 ],
 "metadata": {
  "kernelspec": {
   "display_name": "Python 3 (ipykernel)",
   "language": "python",
   "name": "python3"
  },
  "language_info": {
   "codemirror_mode": {
    "name": "ipython",
    "version": 3
   },
   "file_extension": ".py",
   "mimetype": "text/x-python",
   "name": "python",
   "nbconvert_exporter": "python",
   "pygments_lexer": "ipython3",
   "version": "3.10.9"
  }
 },
 "nbformat": 4,
 "nbformat_minor": 5
}

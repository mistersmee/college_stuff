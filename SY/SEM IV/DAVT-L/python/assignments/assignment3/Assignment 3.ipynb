{
 "cells": [
  {
   "cell_type": "code",
   "execution_count": 48,
   "id": "f42393b4",
   "metadata": {},
   "outputs": [],
   "source": [
    "from autoscraper import AutoScraper"
   ]
  },
  {
   "cell_type": "code",
   "execution_count": 72,
   "id": "78c3bd51",
   "metadata": {},
   "outputs": [
    {
     "data": {
      "text/plain": [
       "['Electronics Store',\n",
       " 'Samsung A31',\n",
       " 'Nikon DSLR',\n",
       " 'Gaming Laptops',\n",
       " 'Mi TV',\n",
       " 'Vacuum Cleaners',\n",
       " 'Party Dresses',\n",
       " 'Lotto Sports Shoes',\n",
       " 'Aashirvaad Atta',\n",
       " 'Chocolates',\n",
       " 'Red Sofa',\n",
       " 'Toys',\n",
       " 'Holi Gifts',\n",
       " 'Oppo A12',\n",
       " 'Acer Laptops',\n",
       " 'Sony TV',\n",
       " 'Irons / Iron Box',\n",
       " 'Bra',\n",
       " 'Sneakers',\n",
       " 'Mustard Oil',\n",
       " 'Shelves',\n",
       " 'Books Store',\n",
       " 'Grocery',\n",
       " 'Mobiles',\n",
       " 'Fashion',\n",
       " 'Electronics',\n",
       " 'Home',\n",
       " 'Appliances',\n",
       " 'Travel',\n",
       " 'Top Offers',\n",
       " 'Beauty, Toys & More',\n",
       " 'Two Wheelers']"
      ]
     },
     "execution_count": 72,
     "metadata": {},
     "output_type": "execute_result"
    }
   ],
   "source": [
    "url = \"https://www.flipkart.com\"\n",
    "\n",
    "wanted_list = [\"Toys\", \"Electronics\", \"iPads\", \"Apple\", \"iPhone\"]\n",
    "scraper = AutoScraper()\n",
    "result = scraper.build(url, wanted_list)\n",
    "result"
   ]
  },
  {
   "cell_type": "code",
   "execution_count": 50,
   "id": "49fdaf44",
   "metadata": {
    "scrolled": true
   },
   "outputs": [],
   "source": [
    "yahoof = \"https://finance.yahoo.com\"\n",
    "ywanted = [\"Cryptocurrencies\", \"BTC\", \"Wall Street\"]"
   ]
  },
  {
   "cell_type": "code",
   "execution_count": 51,
   "id": "22547dd8",
   "metadata": {},
   "outputs": [],
   "source": [
    "result2 = scraper.build(yahoof, ywanted)"
   ]
  },
  {
   "cell_type": "code",
   "execution_count": 52,
   "id": "1324c0b1",
   "metadata": {},
   "outputs": [
    {
     "data": {
      "text/plain": [
       "['Recently Viewed',\n",
       " 'Cryptocurrencies',\n",
       " 'Trending Tickers',\n",
       " 'Stocks: Most Actives',\n",
       " 'Stocks: Gainers',\n",
       " 'Stocks: Losers',\n",
       " 'Top Mutual Funds',\n",
       " 'Top ETFs',\n",
       " 'Currencies',\n",
       " 'Futures',\n",
       " 'Options: Highest OI',\n",
       " 'Options: Highest Implied Volatility']"
      ]
     },
     "execution_count": 52,
     "metadata": {},
     "output_type": "execute_result"
    }
   ],
   "source": [
    "result2"
   ]
  },
  {
   "cell_type": "code",
   "execution_count": null,
   "id": "75f200a5",
   "metadata": {},
   "outputs": [],
   "source": []
  }
 ],
 "metadata": {
  "kernelspec": {
   "display_name": "Python 3 (ipykernel)",
   "language": "python",
   "name": "python3"
  },
  "language_info": {
   "codemirror_mode": {
    "name": "ipython",
    "version": 3
   },
   "file_extension": ".py",
   "mimetype": "text/x-python",
   "name": "python",
   "nbconvert_exporter": "python",
   "pygments_lexer": "ipython3",
   "version": "3.10.10"
  }
 },
 "nbformat": 4,
 "nbformat_minor": 5
}

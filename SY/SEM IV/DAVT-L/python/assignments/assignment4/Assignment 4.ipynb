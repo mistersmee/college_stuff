{
 "cells": [
  {
   "cell_type": "code",
   "execution_count": null,
   "id": "8c7f9327",
   "metadata": {},
   "outputs": [],
   "source": [
    "from dataprep.datasets import load_dataset"
   ]
  },
  {
   "cell_type": "code",
   "execution_count": null,
   "id": "60587202",
   "metadata": {},
   "outputs": [],
   "source": [
    "df = load_dataset('titanic')"
   ]
  },
  {
   "cell_type": "code",
   "execution_count": null,
   "id": "6b355459",
   "metadata": {},
   "outputs": [],
   "source": [
    "df"
   ]
  },
  {
   "cell_type": "code",
   "execution_count": null,
   "id": "60924b02",
   "metadata": {},
   "outputs": [],
   "source": [
    "df.columns"
   ]
  },
  {
   "cell_type": "code",
   "execution_count": null,
   "id": "2cc79cf2",
   "metadata": {},
   "outputs": [],
   "source": [
    "df.info()"
   ]
  },
  {
   "cell_type": "code",
   "execution_count": null,
   "id": "cd09bdcb",
   "metadata": {},
   "outputs": [],
   "source": [
    "df.describe()"
   ]
  },
  {
   "cell_type": "code",
   "execution_count": null,
   "id": "18af3afa",
   "metadata": {},
   "outputs": [],
   "source": [
    "from dataprep.eda import create_report"
   ]
  },
  {
   "cell_type": "code",
   "execution_count": null,
   "id": "e8fda166",
   "metadata": {},
   "outputs": [],
   "source": [
    "create_report(df)"
   ]
  },
  {
   "cell_type": "markdown",
   "id": "c750d696",
   "metadata": {},
   "source": [
    "# There are 177 missing values for age in Parch, and 687 missing values in Cabin for titanic dataset\n",
    "# There is strong positive correlation between Parch and SibSp\n",
    "# There is strong negative correlation between Pclass and fare"
   ]
  },
  {
   "cell_type": "code",
   "execution_count": null,
   "id": "2da88116",
   "metadata": {},
   "outputs": [],
   "source": [
    "df2 = load_dataset('iris')"
   ]
  },
  {
   "cell_type": "code",
   "execution_count": null,
   "id": "d62f053f",
   "metadata": {},
   "outputs": [],
   "source": [
    "create_report(df2)"
   ]
  },
  {
   "cell_type": "markdown",
   "id": "de14af3c",
   "metadata": {},
   "source": [
    "# There are no missing values in iris dataset\n",
    "# There is strong positive correlation between sepal_length and petal_length, and sepal_length and petal_width, as well as between petal_length and petal_width\n",
    "# There is moderate negative correlation between sepal_width and petal_width and sepal_width and petal_length"
   ]
  },
  {
   "cell_type": "code",
   "execution_count": null,
   "id": "d7f666ac",
   "metadata": {},
   "outputs": [],
   "source": []
  }
 ],
 "metadata": {
  "kernelspec": {
   "display_name": "Python 3 (ipykernel)",
   "language": "python",
   "name": "python3"
  },
  "language_info": {
   "codemirror_mode": {
    "name": "ipython",
    "version": 3
   },
   "file_extension": ".py",
   "mimetype": "text/x-python",
   "name": "python",
   "nbconvert_exporter": "python",
   "pygments_lexer": "ipython3",
   "version": "3.10.10"
  }
 },
 "nbformat": 4,
 "nbformat_minor": 5
}

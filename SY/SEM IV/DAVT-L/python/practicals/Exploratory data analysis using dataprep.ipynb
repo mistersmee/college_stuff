{
 "cells": [
  {
   "cell_type": "code",
   "execution_count": null,
   "id": "26342a7a",
   "metadata": {},
   "outputs": [],
   "source": [
    "!pip install dataprep"
   ]
  },
  {
   "cell_type": "code",
   "execution_count": null,
   "id": "8c7f9327",
   "metadata": {},
   "outputs": [],
   "source": [
    "from dataprep.datasets import load_dataset"
   ]
  },
  {
   "cell_type": "code",
   "execution_count": null,
   "id": "60587202",
   "metadata": {},
   "outputs": [],
   "source": [
    "df = load_dataset('titanic')"
   ]
  },
  {
   "cell_type": "code",
   "execution_count": null,
   "id": "6b355459",
   "metadata": {},
   "outputs": [],
   "source": [
    "df"
   ]
  },
  {
   "cell_type": "code",
   "execution_count": null,
   "id": "60924b02",
   "metadata": {},
   "outputs": [],
   "source": [
    "df.columns"
   ]
  },
  {
   "cell_type": "code",
   "execution_count": null,
   "id": "2cc79cf2",
   "metadata": {},
   "outputs": [],
   "source": [
    "df.info()"
   ]
  },
  {
   "cell_type": "code",
   "execution_count": null,
   "id": "cd09bdcb",
   "metadata": {},
   "outputs": [],
   "source": [
    "df.describe()"
   ]
  },
  {
   "cell_type": "code",
   "execution_count": null,
   "id": "18af3afa",
   "metadata": {},
   "outputs": [],
   "source": [
    "from dataprep.eda import create_report"
   ]
  },
  {
   "cell_type": "code",
   "execution_count": null,
   "id": "e8fda166",
   "metadata": {},
   "outputs": [],
   "source": [
    "create_report(df)"
   ]
  },
  {
   "cell_type": "code",
   "execution_count": null,
   "id": "2da88116",
   "metadata": {},
   "outputs": [],
   "source": [
    "df2 = load_dataset('iris')"
   ]
  },
  {
   "cell_type": "code",
   "execution_count": null,
   "id": "d62f053f",
   "metadata": {},
   "outputs": [],
   "source": [
    "create_report(df2)"
   ]
  },
  {
   "cell_type": "code",
   "execution_count": null,
   "id": "31f280a6",
   "metadata": {},
   "outputs": [],
   "source": [
    "!pip install autoscraper"
   ]
  },
  {
   "cell_type": "code",
   "execution_count": null,
   "id": "866d4857",
   "metadata": {},
   "outputs": [],
   "source": [
    "from autoscraper import AutoScraper"
   ]
  },
  {
   "cell_type": "code",
   "execution_count": null,
   "id": "12a923ff",
   "metadata": {},
   "outputs": [],
   "source": [
    "url = \"https://www.amazon.in/headphones/s?k=headphones\""
   ]
  },
  {
   "cell_type": "code",
   "execution_count": null,
   "id": "c5f502bf",
   "metadata": {},
   "outputs": [],
   "source": [
    "wanted_list = [\"boAt Rockerz 450 Bluetooth On Ear\"]"
   ]
  },
  {
   "cell_type": "code",
   "execution_count": null,
   "id": "f8d547ac",
   "metadata": {},
   "outputs": [],
   "source": [
    "scraper = AutoScraper()"
   ]
  },
  {
   "cell_type": "code",
   "execution_count": null,
   "id": "3d5da11c",
   "metadata": {},
   "outputs": [],
   "source": [
    "results = scraper.build(url, wanted_list)"
   ]
  },
  {
   "cell_type": "code",
   "execution_count": null,
   "id": "818396fc",
   "metadata": {},
   "outputs": [],
   "source": [
    "results"
   ]
  },
  {
   "cell_type": "code",
   "execution_count": null,
   "id": "a4ef3a9d",
   "metadata": {},
   "outputs": [],
   "source": []
  }
 ],
 "metadata": {
  "kernelspec": {
   "display_name": "Python 3 (ipykernel)",
   "language": "python",
   "name": "python3"
  },
  "language_info": {
   "codemirror_mode": {
    "name": "ipython",
    "version": 3
   },
   "file_extension": ".py",
   "mimetype": "text/x-python",
   "name": "python",
   "nbconvert_exporter": "python",
   "pygments_lexer": "ipython3",
   "version": "3.9.13"
  }
 },
 "nbformat": 4,
 "nbformat_minor": 5
}

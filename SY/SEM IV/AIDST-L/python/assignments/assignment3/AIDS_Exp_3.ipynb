{
 "cells": [
  {
   "cell_type": "code",
   "execution_count": 1,
   "metadata": {
    "id": "VXOdmPnOzvho"
   },
   "outputs": [],
   "source": [
    "import pandas as pd\n",
    "import datetime"
   ]
  },
  {
   "cell_type": "code",
   "execution_count": 2,
   "metadata": {
    "colab": {
     "base_uri": "https://localhost:8080/",
     "height": 175
    },
    "executionInfo": {
     "elapsed": 788,
     "status": "ok",
     "timestamp": 1685014378602,
     "user": {
      "displayName": "Shreya Pungaonkar",
      "userId": "17185545065399712835"
     },
     "user_tz": -330
    },
    "id": "1A6JAh3prUoS",
    "outputId": "a2653eab-4621-4205-b396-d8584603062f"
   },
   "outputs": [
    {
     "data": {
      "text/html": [
       "<div>\n",
       "<style scoped>\n",
       "    .dataframe tbody tr th:only-of-type {\n",
       "        vertical-align: middle;\n",
       "    }\n",
       "\n",
       "    .dataframe tbody tr th {\n",
       "        vertical-align: top;\n",
       "    }\n",
       "\n",
       "    .dataframe thead th {\n",
       "        text-align: right;\n",
       "    }\n",
       "</style>\n",
       "<table border=\"1\" class=\"dataframe\">\n",
       "  <thead>\n",
       "    <tr style=\"text-align: right;\">\n",
       "      <th></th>\n",
       "      <th>Name</th>\n",
       "      <th>Age</th>\n",
       "    </tr>\n",
       "  </thead>\n",
       "  <tbody>\n",
       "    <tr>\n",
       "      <th>0</th>\n",
       "      <td>Jay</td>\n",
       "      <td>25</td>\n",
       "    </tr>\n",
       "    <tr>\n",
       "      <th>1</th>\n",
       "      <td>ram</td>\n",
       "      <td>30</td>\n",
       "    </tr>\n",
       "    <tr>\n",
       "      <th>2</th>\n",
       "      <td>Jai</td>\n",
       "      <td>26</td>\n",
       "    </tr>\n",
       "    <tr>\n",
       "      <th>3</th>\n",
       "      <td>jui</td>\n",
       "      <td>22</td>\n",
       "    </tr>\n",
       "  </tbody>\n",
       "</table>\n",
       "</div>"
      ],
      "text/plain": [
       "  Name  Age\n",
       "0  Jay   25\n",
       "1  ram   30\n",
       "2  Jai   26\n",
       "3  jui   22"
      ]
     },
     "execution_count": 2,
     "metadata": {},
     "output_type": "execute_result"
    }
   ],
   "source": [
    "import pandas as pd  \n",
    "lst = [['Jay', 25], ['ram', 30],\n",
    "       ['Jai', 26], ['jui', 22]]\n",
    "    \n",
    "df = pd.DataFrame(lst, columns =['Name', 'Age'])\n",
    "df"
   ]
  },
  {
   "cell_type": "code",
   "execution_count": 3,
   "metadata": {
    "colab": {
     "base_uri": "https://localhost:8080/"
    },
    "executionInfo": {
     "elapsed": 13,
     "status": "ok",
     "timestamp": 1685014381657,
     "user": {
      "displayName": "Shreya Pungaonkar",
      "userId": "17185545065399712835"
     },
     "user_tz": -330
    },
    "id": "qOntfHkVrU1f",
    "outputId": "ea029874-7c9e-4bcc-b890-bfd9e9c4b573"
   },
   "outputs": [
    {
     "data": {
      "text/plain": [
       "0    Jay\n",
       "1    ram\n",
       "2    Jai\n",
       "3    jui\n",
       "dtype: object"
      ]
     },
     "execution_count": 3,
     "metadata": {},
     "output_type": "execute_result"
    }
   ],
   "source": [
    "import pandas as pd  \n",
    "lst = [['Jay', 25], ['ram', 30],\n",
    "       ['Jai', 26], ['jui', 22]]\n",
    "df1 = pd.Series((i[0] for i in lst))\n",
    "df1"
   ]
  },
  {
   "cell_type": "code",
   "execution_count": 5,
   "metadata": {
    "id": "fDw4WHr24e4Z"
   },
   "outputs": [],
   "source": [
    "df = pd.read_csv(\"people100.csv\")"
   ]
  },
  {
   "cell_type": "code",
   "execution_count": 6,
   "metadata": {
    "id": "Yg1lRiTD5WMO"
   },
   "outputs": [],
   "source": [
    "df1 = pd.DataFrame(df)"
   ]
  },
  {
   "cell_type": "code",
   "execution_count": 7,
   "metadata": {
    "id": "hZymqCsj8G0H"
   },
   "outputs": [
    {
     "name": "stdout",
     "output_type": "stream",
     "text": [
      "    Index          User Id First Name  Last Name  Gender  \\\n",
      "0       1  88F7B33d2bcf9f5     Shelby    Terrell    Male   \n",
      "1       2  f90cD3E76f1A9b9    Phillip    Summers  Female   \n",
      "2       3  DbeAb8CcdfeFC2c   Kristine     Travis    Male   \n",
      "3       4  A31Bee3c201ef58    Yesenia   Martinez    Male   \n",
      "4       5  1bA7A3dc874da3c       Lori       Todd    Male   \n",
      "..    ...              ...        ...        ...     ...   \n",
      "95     96  5eFda7caAeB260E     Dennis     Barnes  Female   \n",
      "96     97  CCbFce93d3720bE      Steve  Patterson  Female   \n",
      "97     98  2fEc528aFAF0b69     Wesley       Bray    Male   \n",
      "98     99  Adc7ad9B6e4A1Fe     Summer   Oconnell  Female   \n",
      "99    100  b8D0aD3490FC7e1     Mariah    Bernard    Male   \n",
      "\n",
      "                         Email                   Phone Date of birth  \\\n",
      "0         elijah57@example.net  001-084-906-7849x73518      26-10-45   \n",
      "1        bethany14@example.com       214.112.6044x4913      24-03-10   \n",
      "2        bthompson@example.com            277.609.7938      02-07-92   \n",
      "3    kaitlinkaiser@example.com            584.094.6111      03-08-17   \n",
      "4   buchananmanuel@example.net       689-207-3558x7233      01-12-38   \n",
      "..                         ...                     ...           ...   \n",
      "95         bmartin@example.org    001-095-524-2112x257      30-07-54   \n",
      "96       latasha46@example.net        001-865-478-5157      29-04-32   \n",
      "97        regina11@example.org      995-542-3004x76800      28-12-94   \n",
      "98  alexiscantrell@example.org    001-273-685-6932x092      12-04-12   \n",
      "99       pcopeland@example.org     (341)594-6554x44657      15-11-16   \n",
      "\n",
      "                Job Title  \n",
      "0         Games developer  \n",
      "1          Phytotherapist  \n",
      "2               Homeopath  \n",
      "3       Market researcher  \n",
      "4      Veterinary surgeon  \n",
      "..                    ...  \n",
      "95      Software engineer  \n",
      "96              Barrister  \n",
      "97         Police officer  \n",
      "98   Broadcast journalist  \n",
      "99  IT sales professional  \n",
      "\n",
      "[100 rows x 9 columns]\n"
     ]
    }
   ],
   "source": [
    "print(df1)"
   ]
  },
  {
   "cell_type": "code",
   "execution_count": 8,
   "metadata": {
    "id": "l24wF_1_8IXj"
   },
   "outputs": [],
   "source": [
    "df2 = pd.DataFrame(df,columns=['First Name','Email','Phone','Job Title'])"
   ]
  },
  {
   "cell_type": "code",
   "execution_count": 9,
   "metadata": {
    "id": "RH9GFg6K8wja"
   },
   "outputs": [],
   "source": [
    "result = df2.loc[df1['Job Title'].str.contains('Teacher|Lawyer')]"
   ]
  },
  {
   "cell_type": "code",
   "execution_count": 10,
   "metadata": {
    "id": "ntYJhkGC9X81"
   },
   "outputs": [
    {
     "name": "stdout",
     "output_type": "stream",
     "text": [
      "Result:\n",
      "    First Name                         Email                   Phone                 Job Title\n",
      "8        Dave           nmccann@example.net      603-428-2429x27392                    Lawyer\n",
      "18      Alvin  gilbertdonaldson@example.com      219.436.0887x07551  Teacher, adult education\n",
      "86    Chelsea   johnnyhendricks@example.net  001-698-651-0138x18588  Teacher, early years/pre\n"
     ]
    }
   ],
   "source": [
    "print(\"Result:\\n\",result.to_string())"
   ]
  },
  {
   "cell_type": "code",
   "execution_count": 11,
   "metadata": {
    "id": "AJo9EmT_-FGo"
   },
   "outputs": [],
   "source": [
    "df3 = pd.DataFrame(df,columns=['First Name','Phone','Job Title','Date of birth'])"
   ]
  },
  {
   "cell_type": "code",
   "execution_count": 12,
   "metadata": {
    "id": "-gVf1s-PDemB"
   },
   "outputs": [],
   "source": [
    "df['Date of birth'] = df['Date of birth'].astype('datetime64[ns]')"
   ]
  },
  {
   "cell_type": "code",
   "execution_count": 13,
   "metadata": {
    "id": "rqzhjrvoDuR4"
   },
   "outputs": [],
   "source": [
    "df4 = df['Date of birth']>'1950,1995'"
   ]
  },
  {
   "cell_type": "code",
   "execution_count": 14,
   "metadata": {
    "id": "CRtKaFGsGBcl"
   },
   "outputs": [],
   "source": [
    "result1 = df3.loc[df1['Job Title'].str.contains('scientist|engineer')]"
   ]
  },
  {
   "cell_type": "code",
   "execution_count": 15,
   "metadata": {
    "id": "ZugOwux-GVVL"
   },
   "outputs": [
    {
     "name": "stdout",
     "output_type": "stream",
     "text": [
      "Result:\n",
      "     First Name                  Phone                           Job Title Date of birth\n",
      "17       Frank      429.965.3902x4447              Audiological scientist      16-09-08\n",
      "23      Janice  001-249-314-9742x6996                   Drilling engineer      01-11-99\n",
      "31  Jacqueline          (247)762-8934          Building services engineer      25-02-99\n",
      "35      Melody          (826)792-7381  Research scientist (life sciences)      25-06-63\n",
      "59       Grace     (034)867-8827x6777                  Petroleum engineer      15-10-09\n",
      "70        Ryan    +1-695-557-9948x485             Physiological scientist      06-10-20\n",
      "73    Veronica  +1-521-589-2387x48490                 Structural engineer      08-06-74\n",
      "82    Reginald    +1-832-500-6044x475          Contracting civil engineer      08-02-10\n",
      "85       Mario     160-144-5039x12276  Research scientist (life sciences)      08-07-90\n",
      "88       Harry                  -6354            Technical sales engineer      24-08-47\n",
      "95      Dennis   001-095-524-2112x257                   Software engineer      30-07-54\n"
     ]
    }
   ],
   "source": [
    "print(\"Result:\\n\",result1.to_string())"
   ]
  },
  {
   "cell_type": "code",
   "execution_count": null,
   "metadata": {},
   "outputs": [],
   "source": []
  }
 ],
 "metadata": {
  "colab": {
   "authorship_tag": "ABX9TyOGA3wLSuHn2NqwrF5Vz9SI",
   "provenance": []
  },
  "kernelspec": {
   "display_name": "Python 3 (ipykernel)",
   "language": "python",
   "name": "python3"
  },
  "language_info": {
   "codemirror_mode": {
    "name": "ipython",
    "version": 3
   },
   "file_extension": ".py",
   "mimetype": "text/x-python",
   "name": "python",
   "nbconvert_exporter": "python",
   "pygments_lexer": "ipython3",
   "version": "3.11.3"
  }
 },
 "nbformat": 4,
 "nbformat_minor": 1
}

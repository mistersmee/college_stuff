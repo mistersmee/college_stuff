{
 "cells": [
  {
   "cell_type": "code",
   "execution_count": 2,
   "metadata": {
    "colab": {
     "base_uri": "https://localhost:8080/"
    },
    "executionInfo": {
     "elapsed": 1231,
     "status": "ok",
     "timestamp": 1685022464811,
     "user": {
      "displayName": "Shreya Pungaonkar",
      "userId": "17185545065399712835"
     },
     "user_tz": -330
    },
    "id": "FLvpeLFQKWjx",
    "outputId": "87963086-01f1-4c50-f659-6b91ef67e854"
   },
   "outputs": [
    {
     "name": "stdout",
     "output_type": "stream",
     "text": [
      "Index values of Males: [0, 2, 3, 4, 5, 7, 8, 9, 11, 12, 14, 16, 17, 18, 22, 25, 26, 28, 29, 31, 35, 36, 44, 47, 48, 49, 59, 60, 61, 62, 65, 68, 69, 70, 71, 75, 76, 78, 79, 81, 82, 85, 86, 87, 93, 97, 99]\n",
      "Job titles of Females: ['Phytotherapist', 'Intelligence analyst', 'Advertising account executive', 'Social worker', 'Sport and exercise psychologist', 'Paediatric nurse', 'Scientist, marine', 'Commercial horticulturist', 'Drilling engineer', 'Systems analyst', 'Recycling officer', 'Food technologist', 'Seismic interpreter', 'Engineer, biomedical', 'Set designer', 'Surveyor, quantity', 'Outdoor activities/education manager', 'Information systems manager', 'Scientist, clinical (histocompatibility and immunogenetics)', 'Accounting technician', 'Management consultant', 'Make', 'Commissioning editor', 'Accountant, chartered management', 'Estate manager/land agent', 'Physiotherapist', 'Passenger transport manager', 'Call centre manager', 'Special educational needs teacher', 'Museum/gallery exhibitions officer', 'Pension scheme manager', 'Archaeologist', 'Historic buildings inspector/conservation officer', 'Chiropractor', 'Biochemist, clinical', 'Hydrologist', 'Biochemist, clinical', 'Financial trader', 'Structural engineer', 'Biochemist, clinical', 'Newspaper journalist', 'Economist', 'Higher education lecturer', 'Lecturer, further education', 'Technical sales engineer', 'Charity fundraiser', 'Patent attorney', 'Conservator, furniture', 'Dance movement psychotherapist', 'Air broker', 'Software engineer', 'Barrister', 'Broadcast journalist']\n"
     ]
    }
   ],
   "source": [
    "import pandas as pd\n",
    "\n",
    "data = pd.read_csv(\"people100.csv\")\n",
    "\n",
    "male_indices = data[data['Gender'] == 'Male'].index\n",
    "print(\"Index values of Males:\", list(male_indices))\n",
    "\n",
    "female_job_titles = data[data['Gender'] == 'Female']['Job Title']\n",
    "print(\"Job titles of Females:\", list(female_job_titles))\n"
   ]
  },
  {
   "cell_type": "code",
   "execution_count": 3,
   "metadata": {
    "colab": {
     "base_uri": "https://localhost:8080/"
    },
    "executionInfo": {
     "elapsed": 1182,
     "status": "ok",
     "timestamp": 1685022546393,
     "user": {
      "displayName": "Shreya Pungaonkar",
      "userId": "17185545065399712835"
     },
     "user_tz": -330
    },
    "id": "z1t1HDetK4IA",
    "outputId": "168a40eb-8bb7-450d-a74e-450804e98f5e"
   },
   "outputs": [
    {
     "name": "stdout",
     "output_type": "stream",
     "text": [
      "Using loc():\n",
      "   Country          Capital  Population  No_of_states\n",
      "0      USA  Washington D.C.   331002651            50\n",
      "1    India        New Delhi  1380004385            28\n",
      "2    China          Beijing  1444216107            23\n",
      "3  Germany           Berlin    83783942            16\n",
      "\n",
      "Using iloc():\n",
      "   Country          Capital  Population  No_of_states\n",
      "0      USA  Washington D.C.   331002651            50\n",
      "1    India        New Delhi  1380004385            28\n",
      "2    China          Beijing  1444216107            23\n",
      "3  Germany           Berlin    83783942            16\n"
     ]
    }
   ],
   "source": [
    "import pandas as pd\n",
    "\n",
    "data = {\n",
    "    'Country': ['USA', 'India', 'China', 'Germany'],\n",
    "    'Capital': ['Washington D.C.', 'New Delhi', 'Beijing', 'Berlin'],\n",
    "    'Population': [331002651, 1380004385, 1444216107, 83783942],\n",
    "    'No_of_states': [50, 28, 23, 16]\n",
    "}\n",
    "\n",
    "\n",
    "df = pd.DataFrame(data)\n",
    "\n",
    "print(\"Using loc():\")\n",
    "print(df.loc[:, 'Country':'No_of_states'])\n",
    "\n",
    "print(\"\\nUsing iloc():\")\n",
    "print(df.iloc[:, 0:4])\n"
   ]
  },
  {
   "cell_type": "code",
   "execution_count": null,
   "metadata": {},
   "outputs": [],
   "source": [
    "2"
   ]
  }
 ],
 "metadata": {
  "colab": {
   "authorship_tag": "ABX9TyP+Xlq/BFg9QZjI/H+Pz2v3",
   "provenance": []
  },
  "kernelspec": {
   "display_name": "Python 3 (ipykernel)",
   "language": "python",
   "name": "python3"
  },
  "language_info": {
   "codemirror_mode": {
    "name": "ipython",
    "version": 3
   },
   "file_extension": ".py",
   "mimetype": "text/x-python",
   "name": "python",
   "nbconvert_exporter": "python",
   "pygments_lexer": "ipython3",
   "version": "3.11.3"
  }
 },
 "nbformat": 4,
 "nbformat_minor": 1
}

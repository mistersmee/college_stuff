{
 "cells": [
  {
   "cell_type": "markdown",
   "id": "a893c646-c896-44de-b4de-5989f7c97278",
   "metadata": {},
   "source": [
    "# Name: Aseem Aniket Athale\n",
    "# AICS Roll no: 19\n",
    "# PRN: 2122000421"
   ]
  },
  {
   "cell_type": "code",
   "execution_count": 1,
   "id": "aadc908b-a7ae-46fa-b385-b90ba2a1ef07",
   "metadata": {},
   "outputs": [
    {
     "name": "stdout",
     "output_type": "stream",
     "text": [
      "n =  21\n"
     ]
    }
   ],
   "source": [
    "import math\n",
    "p = 3\n",
    "q = 7\n",
    "n = p * q\n",
    "print(\"n = \", n)\n",
    "phi = (p-1) * (q-1)"
   ]
  },
  {
   "cell_type": "code",
   "execution_count": 2,
   "id": "d66f7322-fefa-409c-b9f5-7dcc5d6a6fad",
   "metadata": {},
   "outputs": [
    {
     "name": "stdout",
     "output_type": "stream",
     "text": [
      "e =  5\n"
     ]
    }
   ],
   "source": [
    "e = 2\n",
    "while (e < phi):\n",
    "  if (math.gcd(e,phi) == 1):\n",
    "    break\n",
    "  else:\n",
    "    e += 1\n",
    "print(\"e = \", e)"
   ]
  },
  {
   "cell_type": "code",
   "execution_count": 4,
   "id": "2215e98e-cd3f-482b-ae86-69d0ed20f869",
   "metadata": {},
   "outputs": [
    {
     "name": "stdout",
     "output_type": "stream",
     "text": [
      "d =  5.0\n",
      "PublicKey: (5, 21)\n",
      "PrivateKey: (5.0, 21)\n"
     ]
    }
   ],
   "source": [
    "k = 2\n",
    "d = ( (k * phi) + 1) / e\n",
    "print(\"d = \", d)\n",
    "print(f\"PublicKey: {e, n}\")\n",
    "print(f\"PrivateKey: {d, n}\")"
   ]
  },
  {
   "cell_type": "code",
   "execution_count": 5,
   "id": "b6011abc-8b97-49ba-a98d-c84977f74535",
   "metadata": {},
   "outputs": [
    {
     "name": "stdout",
     "output_type": "stream",
     "text": [
      "Original message: 17\n"
     ]
    }
   ],
   "source": [
    "msg = 17\n",
    "print(f\"Original message: {msg}\")"
   ]
  },
  {
   "cell_type": "code",
   "execution_count": 6,
   "id": "db9a3843-ba4d-4160-b97f-d235198cdcf2",
   "metadata": {},
   "outputs": [
    {
     "name": "stdout",
     "output_type": "stream",
     "text": [
      "Encrypted message: 5.0\n"
     ]
    }
   ],
   "source": [
    "c = pow(msg,e)\n",
    "c = math.fmod(c,n)\n",
    "print(f\"Encrypted message: {c}\")"
   ]
  },
  {
   "cell_type": "code",
   "execution_count": 7,
   "id": "83a067f5-5c27-4e69-b055-c392f2f03bad",
   "metadata": {},
   "outputs": [
    {
     "name": "stdout",
     "output_type": "stream",
     "text": [
      "Decrypted message: 17.0\n"
     ]
    }
   ],
   "source": [
    "m = pow(c,d)\n",
    "m = math.fmod(m,n)\n",
    "print(f\"Decrypted message: {m}\")"
   ]
  },
  {
   "cell_type": "code",
   "execution_count": null,
   "id": "8cbe9afd-b5ce-4371-a842-c17d63a5f8ec",
   "metadata": {},
   "outputs": [],
   "source": []
  }
 ],
 "metadata": {
  "kernelspec": {
   "display_name": "Python 3 (ipykernel)",
   "language": "python",
   "name": "python3"
  },
  "language_info": {
   "codemirror_mode": {
    "name": "ipython",
    "version": 3
   },
   "file_extension": ".py",
   "mimetype": "text/x-python",
   "name": "python",
   "nbconvert_exporter": "python",
   "pygments_lexer": "ipython3",
   "version": "3.11.5"
  }
 },
 "nbformat": 4,
 "nbformat_minor": 5
}

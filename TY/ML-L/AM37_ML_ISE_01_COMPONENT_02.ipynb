{
 "cells": [
  {
   "cell_type": "markdown",
   "id": "140a2d82-dc53-4a64-8a85-9c9318a7d9f2",
   "metadata": {},
   "source": [
    "# Name = Aseem Athale\n",
    "# Roll no. = AM37\n",
    "# Prn = 2122000421"
   ]
  },
  {
   "cell_type": "code",
   "execution_count": 1,
   "id": "423734a4",
   "metadata": {},
   "outputs": [
    {
     "name": "stdout",
     "output_type": "stream",
     "text": [
      "Eigenvalues:\n",
      "[2.13992141 0.08230081]\n",
      "\n",
      "Eigenvectors:\n",
      "[[-0.70710678 -0.70710678]\n",
      " [-0.70710678  0.70710678]]\n",
      "\n",
      "Transformed Data (PCA):\n",
      "[[-1.08643242 -0.22352364]\n",
      " [ 2.3089372   0.17808082]\n",
      " [-1.24191895  0.501509  ]\n",
      " [-0.34078247  0.16991864]\n",
      " [-2.18429003 -0.26475825]\n",
      " [-1.16073946  0.23048082]\n",
      " [ 0.09260467 -0.45331721]\n",
      " [ 1.48210777  0.05566672]\n",
      " [ 0.56722643  0.02130455]\n",
      " [ 1.56328726 -0.21536146]]\n"
     ]
    }
   ],
   "source": [
    "import numpy as np\n",
    "from sklearn.decomposition import PCA\n",
    "from sklearn.preprocessing import StandardScaler\n",
    "\n",
    "#Question 1\n",
    "\n",
    "\n",
    "# Create a NumPy array from your data\n",
    "data = np.array([\n",
    "    [2.5, 2.4],\n",
    "    [0.5, 0.7],\n",
    "    [2.2, 2.9],\n",
    "    [1.9, 2.2],\n",
    "    [3.1, 3.0],\n",
    "    [2.3, 2.7],\n",
    "    [2.0, 1.6],\n",
    "    [1.0, 1.1],\n",
    "    [1.5, 1.6],\n",
    "    [1.1, 0.9]\n",
    "])\n",
    "\n",
    "# Standardize the data\n",
    "scaler = StandardScaler()\n",
    "data_std = scaler.fit_transform(data)\n",
    "\n",
    "# Create a PCA object and fit it to the standardized data\n",
    "pca = PCA()\n",
    "pca.fit(data_std)\n",
    "\n",
    "# Get the eigenvalues and eigenvectors\n",
    "eigenvalues = pca.explained_variance_\n",
    "eigenvectors = pca.components_\n",
    "\n",
    "# Print the eigenvalues and eigenvectors\n",
    "print(\"Eigenvalues:\")\n",
    "print(eigenvalues)\n",
    "print(\"\\nEigenvectors:\")\n",
    "print(eigenvectors)\n",
    "\n",
    "# You can also get the transformed data (data projected onto the principal components)\n",
    "data_pca = pca.transform(data_std)\n",
    "print(\"\\nTransformed Data (PCA):\")\n",
    "print(data_pca)\n"
   ]
  },
  {
   "cell_type": "code",
   "execution_count": 2,
   "id": "32f84458",
   "metadata": {},
   "outputs": [
    {
     "name": "stdout",
     "output_type": "stream",
     "text": [
      "Eigenvalues:\n",
      "[2.63577444 0.03089222]\n",
      "\n",
      "Eigenvectors:\n",
      "[[ 0.70710678  0.70710678]\n",
      " [ 0.70710678 -0.70710678]]\n",
      "\n",
      "Transformed Data (PCA):\n",
      "[[ 1.87538639  0.0219802 ]\n",
      " [ 0.74868921 -0.11623368]\n",
      " [-0.87224962  0.23979409]\n",
      " [-1.75182598 -0.14554062]]\n"
     ]
    }
   ],
   "source": [
    "#Question 2\n",
    "\n",
    "# Create a NumPy array from your data\n",
    "data1 = np.array([\n",
    "    [2,4],\n",
    "    [1,3],\n",
    "    [0,1],\n",
    "    [-1,0.5]\n",
    "])\n",
    "\n",
    "# Standardize the data\n",
    "scaler1 = StandardScaler()\n",
    "data_std1 = scaler.fit_transform(data1)\n",
    "\n",
    "# Create a PCA object and fit it to the standardized data\n",
    "pca1 = PCA()\n",
    "pca1.fit(data_std1)\n",
    "\n",
    "# Get the eigenvalues and eigenvectors\n",
    "eigenvalues1 = pca1.explained_variance_\n",
    "eigenvectors1 = pca1.components_\n",
    "\n",
    "# Print the eigenvalues and eigenvectors\n",
    "print(\"Eigenvalues:\")\n",
    "print(eigenvalues1)\n",
    "print(\"\\nEigenvectors:\")\n",
    "print(eigenvectors1)\n",
    "\n",
    "# You can also get the transformed data (data projected onto the principal components)\n",
    "data_pca1 = pca1.transform(data_std1)\n",
    "print(\"\\nTransformed Data (PCA):\")\n",
    "print(data_pca1)\n"
   ]
  },
  {
   "cell_type": "code",
   "execution_count": null,
   "id": "c1f84313",
   "metadata": {},
   "outputs": [],
   "source": []
  }
 ],
 "metadata": {
  "kernelspec": {
   "display_name": "Python 3 (ipykernel)",
   "language": "python",
   "name": "python3"
  },
  "language_info": {
   "codemirror_mode": {
    "name": "ipython",
    "version": 3
   },
   "file_extension": ".py",
   "mimetype": "text/x-python",
   "name": "python",
   "nbconvert_exporter": "python",
   "pygments_lexer": "ipython3",
   "version": "3.11.5"
  }
 },
 "nbformat": 4,
 "nbformat_minor": 5
}

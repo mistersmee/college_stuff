{
 "cells": [
  {
   "cell_type": "code",
   "execution_count": 1,
   "id": "c7fc5e20",
   "metadata": {
    "executionInfo": {
     "elapsed": 14,
     "status": "ok",
     "timestamp": 1700551179482,
     "user": {
      "displayName": "Uma Gurav",
      "userId": "05596086697074256321"
     },
     "user_tz": -330
    },
    "id": "5f4de04c"
   },
   "outputs": [],
   "source": [
    "import numpy as np\n",
    "import pandas as pd"
   ]
  },
  {
   "cell_type": "markdown",
   "id": "e8917d7d",
   "metadata": {
    "id": "509cd222"
   },
   "source": [
    "**Load Dataset**"
   ]
  },
  {
   "cell_type": "markdown",
   "id": "3e9dfba5",
   "metadata": {
    "id": "ba38dd96"
   },
   "source": [
    "**Dataset Profiling**"
   ]
  },
  {
   "cell_type": "code",
   "execution_count": 2,
   "id": "f7a6124d",
   "metadata": {
    "executionInfo": {
     "elapsed": 3,
     "status": "ok",
     "timestamp": 1700551415403,
     "user": {
      "displayName": "Uma Gurav",
      "userId": "05596086697074256321"
     },
     "user_tz": -330
    },
    "id": "224ff8a7"
   },
   "outputs": [],
   "source": [
    "df =pd.read_csv(\"Admission_Predict_Ver1.1.csv\")"
   ]
  },
  {
   "cell_type": "code",
   "execution_count": 3,
   "id": "609b12a1",
   "metadata": {
    "colab": {
     "base_uri": "https://localhost:8080/",
     "height": 204
    },
    "executionInfo": {
     "elapsed": 4,
     "status": "ok",
     "timestamp": 1700551416609,
     "user": {
      "displayName": "Uma Gurav",
      "userId": "05596086697074256321"
     },
     "user_tz": -330
    },
    "id": "98c5bcdb",
    "outputId": "64947d0d-236a-415c-9d6a-adf6414f137b"
   },
   "outputs": [
    {
     "data": {
      "text/html": [
       "<div>\n",
       "<style scoped>\n",
       "    .dataframe tbody tr th:only-of-type {\n",
       "        vertical-align: middle;\n",
       "    }\n",
       "\n",
       "    .dataframe tbody tr th {\n",
       "        vertical-align: top;\n",
       "    }\n",
       "\n",
       "    .dataframe thead th {\n",
       "        text-align: right;\n",
       "    }\n",
       "</style>\n",
       "<table border=\"1\" class=\"dataframe\">\n",
       "  <thead>\n",
       "    <tr style=\"text-align: right;\">\n",
       "      <th></th>\n",
       "      <th>Serial No.</th>\n",
       "      <th>GRE Score</th>\n",
       "      <th>TOEFL Score</th>\n",
       "      <th>University Rating</th>\n",
       "      <th>SOP</th>\n",
       "      <th>LOR</th>\n",
       "      <th>CGPA</th>\n",
       "      <th>Research</th>\n",
       "      <th>Chance of Admit</th>\n",
       "    </tr>\n",
       "  </thead>\n",
       "  <tbody>\n",
       "    <tr>\n",
       "      <th>0</th>\n",
       "      <td>1</td>\n",
       "      <td>337</td>\n",
       "      <td>118</td>\n",
       "      <td>4</td>\n",
       "      <td>4.5</td>\n",
       "      <td>4.5</td>\n",
       "      <td>9.65</td>\n",
       "      <td>1</td>\n",
       "      <td>0.92</td>\n",
       "    </tr>\n",
       "    <tr>\n",
       "      <th>1</th>\n",
       "      <td>2</td>\n",
       "      <td>324</td>\n",
       "      <td>107</td>\n",
       "      <td>4</td>\n",
       "      <td>4.0</td>\n",
       "      <td>4.5</td>\n",
       "      <td>8.87</td>\n",
       "      <td>1</td>\n",
       "      <td>0.76</td>\n",
       "    </tr>\n",
       "    <tr>\n",
       "      <th>2</th>\n",
       "      <td>3</td>\n",
       "      <td>316</td>\n",
       "      <td>104</td>\n",
       "      <td>3</td>\n",
       "      <td>3.0</td>\n",
       "      <td>3.5</td>\n",
       "      <td>8.00</td>\n",
       "      <td>1</td>\n",
       "      <td>0.72</td>\n",
       "    </tr>\n",
       "    <tr>\n",
       "      <th>3</th>\n",
       "      <td>4</td>\n",
       "      <td>322</td>\n",
       "      <td>110</td>\n",
       "      <td>3</td>\n",
       "      <td>3.5</td>\n",
       "      <td>2.5</td>\n",
       "      <td>8.67</td>\n",
       "      <td>1</td>\n",
       "      <td>0.80</td>\n",
       "    </tr>\n",
       "    <tr>\n",
       "      <th>4</th>\n",
       "      <td>5</td>\n",
       "      <td>314</td>\n",
       "      <td>103</td>\n",
       "      <td>2</td>\n",
       "      <td>2.0</td>\n",
       "      <td>3.0</td>\n",
       "      <td>8.21</td>\n",
       "      <td>0</td>\n",
       "      <td>0.65</td>\n",
       "    </tr>\n",
       "  </tbody>\n",
       "</table>\n",
       "</div>"
      ],
      "text/plain": [
       "   Serial No.  GRE Score  TOEFL Score  University Rating  SOP  LOR   CGPA  \\\n",
       "0           1        337          118                  4  4.5   4.5  9.65   \n",
       "1           2        324          107                  4  4.0   4.5  8.87   \n",
       "2           3        316          104                  3  3.0   3.5  8.00   \n",
       "3           4        322          110                  3  3.5   2.5  8.67   \n",
       "4           5        314          103                  2  2.0   3.0  8.21   \n",
       "\n",
       "   Research  Chance of Admit   \n",
       "0         1              0.92  \n",
       "1         1              0.76  \n",
       "2         1              0.72  \n",
       "3         1              0.80  \n",
       "4         0              0.65  "
      ]
     },
     "execution_count": 3,
     "metadata": {},
     "output_type": "execute_result"
    }
   ],
   "source": [
    "df.head(5)"
   ]
  },
  {
   "cell_type": "code",
   "execution_count": 4,
   "id": "a8db2b12",
   "metadata": {
    "colab": {
     "base_uri": "https://localhost:8080/"
    },
    "executionInfo": {
     "elapsed": 6,
     "status": "ok",
     "timestamp": 1700551421025,
     "user": {
      "displayName": "Uma Gurav",
      "userId": "05596086697074256321"
     },
     "user_tz": -330
    },
    "id": "2461a51b",
    "outputId": "ff1d970e-b430-4111-b162-ecba03a95ab9"
   },
   "outputs": [
    {
     "data": {
      "text/plain": [
       "(500, 9)"
      ]
     },
     "execution_count": 4,
     "metadata": {},
     "output_type": "execute_result"
    }
   ],
   "source": [
    "df.shape"
   ]
  },
  {
   "cell_type": "code",
   "execution_count": 5,
   "id": "a5d91ebb",
   "metadata": {
    "colab": {
     "base_uri": "https://localhost:8080/"
    },
    "executionInfo": {
     "elapsed": 6,
     "status": "ok",
     "timestamp": 1700551424934,
     "user": {
      "displayName": "Uma Gurav",
      "userId": "05596086697074256321"
     },
     "user_tz": -330
    },
    "id": "6619c8d5",
    "outputId": "eafbf537-4a9e-4dec-9ebc-247ed4f589b2"
   },
   "outputs": [
    {
     "name": "stdout",
     "output_type": "stream",
     "text": [
      "<class 'pandas.core.frame.DataFrame'>\n",
      "RangeIndex: 500 entries, 0 to 499\n",
      "Data columns (total 9 columns):\n",
      " #   Column             Non-Null Count  Dtype  \n",
      "---  ------             --------------  -----  \n",
      " 0   Serial No.         500 non-null    int64  \n",
      " 1   GRE Score          500 non-null    int64  \n",
      " 2   TOEFL Score        500 non-null    int64  \n",
      " 3   University Rating  500 non-null    int64  \n",
      " 4   SOP                500 non-null    float64\n",
      " 5   LOR                500 non-null    float64\n",
      " 6   CGPA               500 non-null    float64\n",
      " 7   Research           500 non-null    int64  \n",
      " 8   Chance of Admit    500 non-null    float64\n",
      "dtypes: float64(4), int64(5)\n",
      "memory usage: 35.3 KB\n"
     ]
    }
   ],
   "source": [
    "df.info()"
   ]
  },
  {
   "cell_type": "code",
   "execution_count": 6,
   "id": "867a7be8",
   "metadata": {
    "colab": {
     "base_uri": "https://localhost:8080/"
    },
    "executionInfo": {
     "elapsed": 7,
     "status": "ok",
     "timestamp": 1700551427713,
     "user": {
      "displayName": "Uma Gurav",
      "userId": "05596086697074256321"
     },
     "user_tz": -330
    },
    "id": "443df716",
    "outputId": "da43c945-c2b5-4981-92eb-6c1451159126"
   },
   "outputs": [
    {
     "data": {
      "text/plain": [
       "0      False\n",
       "1      False\n",
       "2      False\n",
       "3      False\n",
       "4      False\n",
       "       ...  \n",
       "495    False\n",
       "496    False\n",
       "497    False\n",
       "498    False\n",
       "499    False\n",
       "Length: 500, dtype: bool"
      ]
     },
     "execution_count": 6,
     "metadata": {},
     "output_type": "execute_result"
    }
   ],
   "source": [
    "df.duplicated()"
   ]
  },
  {
   "cell_type": "code",
   "execution_count": 7,
   "id": "5ab4d402",
   "metadata": {
    "colab": {
     "base_uri": "https://localhost:8080/"
    },
    "executionInfo": {
     "elapsed": 6,
     "status": "ok",
     "timestamp": 1700551427713,
     "user": {
      "displayName": "Uma Gurav",
      "userId": "05596086697074256321"
     },
     "user_tz": -330
    },
    "id": "3e422235",
    "outputId": "51ab27cc-0286-49c6-e09a-3f9b8540019a"
   },
   "outputs": [
    {
     "data": {
      "text/plain": [
       "0"
      ]
     },
     "execution_count": 7,
     "metadata": {},
     "output_type": "execute_result"
    }
   ],
   "source": [
    "df.duplicated().sum()"
   ]
  },
  {
   "cell_type": "code",
   "execution_count": 8,
   "id": "a3f768ed",
   "metadata": {
    "colab": {
     "background_save": true,
     "base_uri": "https://localhost:8080/",
     "height": 317
    },
    "executionInfo": {
     "elapsed": 7,
     "status": "error",
     "timestamp": 1700551510581,
     "user": {
      "displayName": "Uma Gurav",
      "userId": "05596086697074256321"
     },
     "user_tz": -330
    },
    "id": "35d855db"
   },
   "outputs": [],
   "source": [
    "df.drop(columns=[\"Serial No.\"],inplace=True)"
   ]
  },
  {
   "cell_type": "code",
   "execution_count": 9,
   "id": "3f931802",
   "metadata": {
    "executionInfo": {
     "elapsed": 5,
     "status": "aborted",
     "timestamp": 1700551444593,
     "user": {
      "displayName": "Uma Gurav",
      "userId": "05596086697074256321"
     },
     "user_tz": -330
    },
    "id": "b2f76ca4"
   },
   "outputs": [
    {
     "data": {
      "text/html": [
       "<div>\n",
       "<style scoped>\n",
       "    .dataframe tbody tr th:only-of-type {\n",
       "        vertical-align: middle;\n",
       "    }\n",
       "\n",
       "    .dataframe tbody tr th {\n",
       "        vertical-align: top;\n",
       "    }\n",
       "\n",
       "    .dataframe thead th {\n",
       "        text-align: right;\n",
       "    }\n",
       "</style>\n",
       "<table border=\"1\" class=\"dataframe\">\n",
       "  <thead>\n",
       "    <tr style=\"text-align: right;\">\n",
       "      <th></th>\n",
       "      <th>GRE Score</th>\n",
       "      <th>TOEFL Score</th>\n",
       "      <th>University Rating</th>\n",
       "      <th>SOP</th>\n",
       "      <th>LOR</th>\n",
       "      <th>CGPA</th>\n",
       "      <th>Research</th>\n",
       "      <th>Chance of Admit</th>\n",
       "    </tr>\n",
       "  </thead>\n",
       "  <tbody>\n",
       "    <tr>\n",
       "      <th>0</th>\n",
       "      <td>337</td>\n",
       "      <td>118</td>\n",
       "      <td>4</td>\n",
       "      <td>4.5</td>\n",
       "      <td>4.5</td>\n",
       "      <td>9.65</td>\n",
       "      <td>1</td>\n",
       "      <td>0.92</td>\n",
       "    </tr>\n",
       "    <tr>\n",
       "      <th>1</th>\n",
       "      <td>324</td>\n",
       "      <td>107</td>\n",
       "      <td>4</td>\n",
       "      <td>4.0</td>\n",
       "      <td>4.5</td>\n",
       "      <td>8.87</td>\n",
       "      <td>1</td>\n",
       "      <td>0.76</td>\n",
       "    </tr>\n",
       "    <tr>\n",
       "      <th>2</th>\n",
       "      <td>316</td>\n",
       "      <td>104</td>\n",
       "      <td>3</td>\n",
       "      <td>3.0</td>\n",
       "      <td>3.5</td>\n",
       "      <td>8.00</td>\n",
       "      <td>1</td>\n",
       "      <td>0.72</td>\n",
       "    </tr>\n",
       "    <tr>\n",
       "      <th>3</th>\n",
       "      <td>322</td>\n",
       "      <td>110</td>\n",
       "      <td>3</td>\n",
       "      <td>3.5</td>\n",
       "      <td>2.5</td>\n",
       "      <td>8.67</td>\n",
       "      <td>1</td>\n",
       "      <td>0.80</td>\n",
       "    </tr>\n",
       "    <tr>\n",
       "      <th>4</th>\n",
       "      <td>314</td>\n",
       "      <td>103</td>\n",
       "      <td>2</td>\n",
       "      <td>2.0</td>\n",
       "      <td>3.0</td>\n",
       "      <td>8.21</td>\n",
       "      <td>0</td>\n",
       "      <td>0.65</td>\n",
       "    </tr>\n",
       "    <tr>\n",
       "      <th>...</th>\n",
       "      <td>...</td>\n",
       "      <td>...</td>\n",
       "      <td>...</td>\n",
       "      <td>...</td>\n",
       "      <td>...</td>\n",
       "      <td>...</td>\n",
       "      <td>...</td>\n",
       "      <td>...</td>\n",
       "    </tr>\n",
       "    <tr>\n",
       "      <th>495</th>\n",
       "      <td>332</td>\n",
       "      <td>108</td>\n",
       "      <td>5</td>\n",
       "      <td>4.5</td>\n",
       "      <td>4.0</td>\n",
       "      <td>9.02</td>\n",
       "      <td>1</td>\n",
       "      <td>0.87</td>\n",
       "    </tr>\n",
       "    <tr>\n",
       "      <th>496</th>\n",
       "      <td>337</td>\n",
       "      <td>117</td>\n",
       "      <td>5</td>\n",
       "      <td>5.0</td>\n",
       "      <td>5.0</td>\n",
       "      <td>9.87</td>\n",
       "      <td>1</td>\n",
       "      <td>0.96</td>\n",
       "    </tr>\n",
       "    <tr>\n",
       "      <th>497</th>\n",
       "      <td>330</td>\n",
       "      <td>120</td>\n",
       "      <td>5</td>\n",
       "      <td>4.5</td>\n",
       "      <td>5.0</td>\n",
       "      <td>9.56</td>\n",
       "      <td>1</td>\n",
       "      <td>0.93</td>\n",
       "    </tr>\n",
       "    <tr>\n",
       "      <th>498</th>\n",
       "      <td>312</td>\n",
       "      <td>103</td>\n",
       "      <td>4</td>\n",
       "      <td>4.0</td>\n",
       "      <td>5.0</td>\n",
       "      <td>8.43</td>\n",
       "      <td>0</td>\n",
       "      <td>0.73</td>\n",
       "    </tr>\n",
       "    <tr>\n",
       "      <th>499</th>\n",
       "      <td>327</td>\n",
       "      <td>113</td>\n",
       "      <td>4</td>\n",
       "      <td>4.5</td>\n",
       "      <td>4.5</td>\n",
       "      <td>9.04</td>\n",
       "      <td>0</td>\n",
       "      <td>0.84</td>\n",
       "    </tr>\n",
       "  </tbody>\n",
       "</table>\n",
       "<p>500 rows × 8 columns</p>\n",
       "</div>"
      ],
      "text/plain": [
       "     GRE Score  TOEFL Score  University Rating  SOP  LOR   CGPA  Research  \\\n",
       "0          337          118                  4  4.5   4.5  9.65         1   \n",
       "1          324          107                  4  4.0   4.5  8.87         1   \n",
       "2          316          104                  3  3.0   3.5  8.00         1   \n",
       "3          322          110                  3  3.5   2.5  8.67         1   \n",
       "4          314          103                  2  2.0   3.0  8.21         0   \n",
       "..         ...          ...                ...  ...   ...   ...       ...   \n",
       "495        332          108                  5  4.5   4.0  9.02         1   \n",
       "496        337          117                  5  5.0   5.0  9.87         1   \n",
       "497        330          120                  5  4.5   5.0  9.56         1   \n",
       "498        312          103                  4  4.0   5.0  8.43         0   \n",
       "499        327          113                  4  4.5   4.5  9.04         0   \n",
       "\n",
       "     Chance of Admit   \n",
       "0                0.92  \n",
       "1                0.76  \n",
       "2                0.72  \n",
       "3                0.80  \n",
       "4                0.65  \n",
       "..                ...  \n",
       "495              0.87  \n",
       "496              0.96  \n",
       "497              0.93  \n",
       "498              0.73  \n",
       "499              0.84  \n",
       "\n",
       "[500 rows x 8 columns]"
      ]
     },
     "execution_count": 9,
     "metadata": {},
     "output_type": "execute_result"
    }
   ],
   "source": [
    "df"
   ]
  },
  {
   "cell_type": "markdown",
   "id": "9b572e7d",
   "metadata": {
    "id": "f10926b2"
   },
   "source": [
    "**Train Test Split**"
   ]
  },
  {
   "cell_type": "code",
   "execution_count": 10,
   "id": "351c4ae4",
   "metadata": {
    "executionInfo": {
     "elapsed": 2,
     "status": "ok",
     "timestamp": 1700551515234,
     "user": {
      "displayName": "Uma Gurav",
      "userId": "05596086697074256321"
     },
     "user_tz": -330
    },
    "id": "34d25263"
   },
   "outputs": [],
   "source": [
    "x=df.iloc[:,0:-1]\n",
    "y=df.iloc[:,-1]"
   ]
  },
  {
   "cell_type": "code",
   "execution_count": 11,
   "id": "7dc2d827",
   "metadata": {
    "colab": {
     "base_uri": "https://localhost:8080/",
     "height": 419
    },
    "executionInfo": {
     "elapsed": 3,
     "status": "ok",
     "timestamp": 1700551518721,
     "user": {
      "displayName": "Uma Gurav",
      "userId": "05596086697074256321"
     },
     "user_tz": -330
    },
    "id": "9b433274",
    "outputId": "df18e5b8-7113-48b7-bad0-590636fe2a61"
   },
   "outputs": [
    {
     "data": {
      "text/html": [
       "<div>\n",
       "<style scoped>\n",
       "    .dataframe tbody tr th:only-of-type {\n",
       "        vertical-align: middle;\n",
       "    }\n",
       "\n",
       "    .dataframe tbody tr th {\n",
       "        vertical-align: top;\n",
       "    }\n",
       "\n",
       "    .dataframe thead th {\n",
       "        text-align: right;\n",
       "    }\n",
       "</style>\n",
       "<table border=\"1\" class=\"dataframe\">\n",
       "  <thead>\n",
       "    <tr style=\"text-align: right;\">\n",
       "      <th></th>\n",
       "      <th>GRE Score</th>\n",
       "      <th>TOEFL Score</th>\n",
       "      <th>University Rating</th>\n",
       "      <th>SOP</th>\n",
       "      <th>LOR</th>\n",
       "      <th>CGPA</th>\n",
       "      <th>Research</th>\n",
       "    </tr>\n",
       "  </thead>\n",
       "  <tbody>\n",
       "    <tr>\n",
       "      <th>0</th>\n",
       "      <td>337</td>\n",
       "      <td>118</td>\n",
       "      <td>4</td>\n",
       "      <td>4.5</td>\n",
       "      <td>4.5</td>\n",
       "      <td>9.65</td>\n",
       "      <td>1</td>\n",
       "    </tr>\n",
       "    <tr>\n",
       "      <th>1</th>\n",
       "      <td>324</td>\n",
       "      <td>107</td>\n",
       "      <td>4</td>\n",
       "      <td>4.0</td>\n",
       "      <td>4.5</td>\n",
       "      <td>8.87</td>\n",
       "      <td>1</td>\n",
       "    </tr>\n",
       "    <tr>\n",
       "      <th>2</th>\n",
       "      <td>316</td>\n",
       "      <td>104</td>\n",
       "      <td>3</td>\n",
       "      <td>3.0</td>\n",
       "      <td>3.5</td>\n",
       "      <td>8.00</td>\n",
       "      <td>1</td>\n",
       "    </tr>\n",
       "    <tr>\n",
       "      <th>3</th>\n",
       "      <td>322</td>\n",
       "      <td>110</td>\n",
       "      <td>3</td>\n",
       "      <td>3.5</td>\n",
       "      <td>2.5</td>\n",
       "      <td>8.67</td>\n",
       "      <td>1</td>\n",
       "    </tr>\n",
       "    <tr>\n",
       "      <th>4</th>\n",
       "      <td>314</td>\n",
       "      <td>103</td>\n",
       "      <td>2</td>\n",
       "      <td>2.0</td>\n",
       "      <td>3.0</td>\n",
       "      <td>8.21</td>\n",
       "      <td>0</td>\n",
       "    </tr>\n",
       "    <tr>\n",
       "      <th>...</th>\n",
       "      <td>...</td>\n",
       "      <td>...</td>\n",
       "      <td>...</td>\n",
       "      <td>...</td>\n",
       "      <td>...</td>\n",
       "      <td>...</td>\n",
       "      <td>...</td>\n",
       "    </tr>\n",
       "    <tr>\n",
       "      <th>495</th>\n",
       "      <td>332</td>\n",
       "      <td>108</td>\n",
       "      <td>5</td>\n",
       "      <td>4.5</td>\n",
       "      <td>4.0</td>\n",
       "      <td>9.02</td>\n",
       "      <td>1</td>\n",
       "    </tr>\n",
       "    <tr>\n",
       "      <th>496</th>\n",
       "      <td>337</td>\n",
       "      <td>117</td>\n",
       "      <td>5</td>\n",
       "      <td>5.0</td>\n",
       "      <td>5.0</td>\n",
       "      <td>9.87</td>\n",
       "      <td>1</td>\n",
       "    </tr>\n",
       "    <tr>\n",
       "      <th>497</th>\n",
       "      <td>330</td>\n",
       "      <td>120</td>\n",
       "      <td>5</td>\n",
       "      <td>4.5</td>\n",
       "      <td>5.0</td>\n",
       "      <td>9.56</td>\n",
       "      <td>1</td>\n",
       "    </tr>\n",
       "    <tr>\n",
       "      <th>498</th>\n",
       "      <td>312</td>\n",
       "      <td>103</td>\n",
       "      <td>4</td>\n",
       "      <td>4.0</td>\n",
       "      <td>5.0</td>\n",
       "      <td>8.43</td>\n",
       "      <td>0</td>\n",
       "    </tr>\n",
       "    <tr>\n",
       "      <th>499</th>\n",
       "      <td>327</td>\n",
       "      <td>113</td>\n",
       "      <td>4</td>\n",
       "      <td>4.5</td>\n",
       "      <td>4.5</td>\n",
       "      <td>9.04</td>\n",
       "      <td>0</td>\n",
       "    </tr>\n",
       "  </tbody>\n",
       "</table>\n",
       "<p>500 rows × 7 columns</p>\n",
       "</div>"
      ],
      "text/plain": [
       "     GRE Score  TOEFL Score  University Rating  SOP  LOR   CGPA  Research\n",
       "0          337          118                  4  4.5   4.5  9.65         1\n",
       "1          324          107                  4  4.0   4.5  8.87         1\n",
       "2          316          104                  3  3.0   3.5  8.00         1\n",
       "3          322          110                  3  3.5   2.5  8.67         1\n",
       "4          314          103                  2  2.0   3.0  8.21         0\n",
       "..         ...          ...                ...  ...   ...   ...       ...\n",
       "495        332          108                  5  4.5   4.0  9.02         1\n",
       "496        337          117                  5  5.0   5.0  9.87         1\n",
       "497        330          120                  5  4.5   5.0  9.56         1\n",
       "498        312          103                  4  4.0   5.0  8.43         0\n",
       "499        327          113                  4  4.5   4.5  9.04         0\n",
       "\n",
       "[500 rows x 7 columns]"
      ]
     },
     "execution_count": 11,
     "metadata": {},
     "output_type": "execute_result"
    }
   ],
   "source": [
    "x"
   ]
  },
  {
   "cell_type": "code",
   "execution_count": 12,
   "id": "dd68e230",
   "metadata": {
    "colab": {
     "base_uri": "https://localhost:8080/"
    },
    "executionInfo": {
     "elapsed": 7,
     "status": "ok",
     "timestamp": 1700551520277,
     "user": {
      "displayName": "Uma Gurav",
      "userId": "05596086697074256321"
     },
     "user_tz": -330
    },
    "id": "e5f1787b",
    "outputId": "d555354c-f2f1-40b8-a8f5-01ca2ab1172b"
   },
   "outputs": [
    {
     "data": {
      "text/plain": [
       "0      0.92\n",
       "1      0.76\n",
       "2      0.72\n",
       "3      0.80\n",
       "4      0.65\n",
       "       ... \n",
       "495    0.87\n",
       "496    0.96\n",
       "497    0.93\n",
       "498    0.73\n",
       "499    0.84\n",
       "Name: Chance of Admit , Length: 500, dtype: float64"
      ]
     },
     "execution_count": 12,
     "metadata": {},
     "output_type": "execute_result"
    }
   ],
   "source": [
    "y"
   ]
  },
  {
   "cell_type": "code",
   "execution_count": 13,
   "id": "8333054d",
   "metadata": {
    "executionInfo": {
     "elapsed": 1326,
     "status": "ok",
     "timestamp": 1700551521600,
     "user": {
      "displayName": "Uma Gurav",
      "userId": "05596086697074256321"
     },
     "user_tz": -330
    },
    "id": "b8c4a0f9"
   },
   "outputs": [],
   "source": [
    "from sklearn.model_selection import train_test_split"
   ]
  },
  {
   "cell_type": "code",
   "execution_count": 14,
   "id": "b43c732c",
   "metadata": {
    "executionInfo": {
     "elapsed": 1020,
     "status": "ok",
     "timestamp": 1700551669665,
     "user": {
      "displayName": "Uma Gurav",
      "userId": "05596086697074256321"
     },
     "user_tz": -330
    },
    "id": "5430a1a6"
   },
   "outputs": [
    {
     "data": {
      "text/plain": [
       "<function sklearn.model_selection._split.train_test_split(*arrays, test_size=None, train_size=None, random_state=None, shuffle=True, stratify=None)>"
      ]
     },
     "execution_count": 14,
     "metadata": {},
     "output_type": "execute_result"
    }
   ],
   "source": [
    "train_test_split"
   ]
  },
  {
   "cell_type": "code",
   "execution_count": 15,
   "id": "44c760e8",
   "metadata": {
    "executionInfo": {
     "elapsed": 17,
     "status": "ok",
     "timestamp": 1700551705921,
     "user": {
      "displayName": "Uma Gurav",
      "userId": "05596086697074256321"
     },
     "user_tz": -330
    },
    "id": "0311453c"
   },
   "outputs": [],
   "source": [
    "x_train, x_test, y_train, y_test = train_test_split(x, y, test_size=0.2, random_state=1)"
   ]
  },
  {
   "cell_type": "code",
   "execution_count": 16,
   "id": "377d73dc",
   "metadata": {
    "colab": {
     "base_uri": "https://localhost:8080/",
     "height": 419
    },
    "executionInfo": {
     "elapsed": 13,
     "status": "ok",
     "timestamp": 1700551705921,
     "user": {
      "displayName": "Uma Gurav",
      "userId": "05596086697074256321"
     },
     "user_tz": -330
    },
    "id": "2d0a5d3c",
    "outputId": "a7ec7e73-a8cd-4904-cd42-12290f3e343f"
   },
   "outputs": [
    {
     "data": {
      "text/html": [
       "<div>\n",
       "<style scoped>\n",
       "    .dataframe tbody tr th:only-of-type {\n",
       "        vertical-align: middle;\n",
       "    }\n",
       "\n",
       "    .dataframe tbody tr th {\n",
       "        vertical-align: top;\n",
       "    }\n",
       "\n",
       "    .dataframe thead th {\n",
       "        text-align: right;\n",
       "    }\n",
       "</style>\n",
       "<table border=\"1\" class=\"dataframe\">\n",
       "  <thead>\n",
       "    <tr style=\"text-align: right;\">\n",
       "      <th></th>\n",
       "      <th>GRE Score</th>\n",
       "      <th>TOEFL Score</th>\n",
       "      <th>University Rating</th>\n",
       "      <th>SOP</th>\n",
       "      <th>LOR</th>\n",
       "      <th>CGPA</th>\n",
       "      <th>Research</th>\n",
       "    </tr>\n",
       "  </thead>\n",
       "  <tbody>\n",
       "    <tr>\n",
       "      <th>238</th>\n",
       "      <td>310</td>\n",
       "      <td>104</td>\n",
       "      <td>3</td>\n",
       "      <td>2.0</td>\n",
       "      <td>3.5</td>\n",
       "      <td>8.37</td>\n",
       "      <td>0</td>\n",
       "    </tr>\n",
       "    <tr>\n",
       "      <th>438</th>\n",
       "      <td>318</td>\n",
       "      <td>110</td>\n",
       "      <td>1</td>\n",
       "      <td>2.5</td>\n",
       "      <td>3.5</td>\n",
       "      <td>8.54</td>\n",
       "      <td>1</td>\n",
       "    </tr>\n",
       "    <tr>\n",
       "      <th>475</th>\n",
       "      <td>300</td>\n",
       "      <td>101</td>\n",
       "      <td>3</td>\n",
       "      <td>3.5</td>\n",
       "      <td>2.5</td>\n",
       "      <td>7.88</td>\n",
       "      <td>0</td>\n",
       "    </tr>\n",
       "    <tr>\n",
       "      <th>58</th>\n",
       "      <td>300</td>\n",
       "      <td>99</td>\n",
       "      <td>1</td>\n",
       "      <td>3.0</td>\n",
       "      <td>2.0</td>\n",
       "      <td>6.80</td>\n",
       "      <td>1</td>\n",
       "    </tr>\n",
       "    <tr>\n",
       "      <th>380</th>\n",
       "      <td>322</td>\n",
       "      <td>104</td>\n",
       "      <td>3</td>\n",
       "      <td>3.5</td>\n",
       "      <td>4.0</td>\n",
       "      <td>8.84</td>\n",
       "      <td>1</td>\n",
       "    </tr>\n",
       "    <tr>\n",
       "      <th>...</th>\n",
       "      <td>...</td>\n",
       "      <td>...</td>\n",
       "      <td>...</td>\n",
       "      <td>...</td>\n",
       "      <td>...</td>\n",
       "      <td>...</td>\n",
       "      <td>...</td>\n",
       "    </tr>\n",
       "    <tr>\n",
       "      <th>255</th>\n",
       "      <td>307</td>\n",
       "      <td>110</td>\n",
       "      <td>4</td>\n",
       "      <td>4.0</td>\n",
       "      <td>4.5</td>\n",
       "      <td>8.37</td>\n",
       "      <td>0</td>\n",
       "    </tr>\n",
       "    <tr>\n",
       "      <th>72</th>\n",
       "      <td>321</td>\n",
       "      <td>111</td>\n",
       "      <td>5</td>\n",
       "      <td>5.0</td>\n",
       "      <td>5.0</td>\n",
       "      <td>9.45</td>\n",
       "      <td>1</td>\n",
       "    </tr>\n",
       "    <tr>\n",
       "      <th>396</th>\n",
       "      <td>325</td>\n",
       "      <td>107</td>\n",
       "      <td>3</td>\n",
       "      <td>3.0</td>\n",
       "      <td>3.5</td>\n",
       "      <td>9.11</td>\n",
       "      <td>1</td>\n",
       "    </tr>\n",
       "    <tr>\n",
       "      <th>235</th>\n",
       "      <td>326</td>\n",
       "      <td>111</td>\n",
       "      <td>5</td>\n",
       "      <td>4.5</td>\n",
       "      <td>4.0</td>\n",
       "      <td>9.23</td>\n",
       "      <td>1</td>\n",
       "    </tr>\n",
       "    <tr>\n",
       "      <th>37</th>\n",
       "      <td>300</td>\n",
       "      <td>105</td>\n",
       "      <td>1</td>\n",
       "      <td>1.0</td>\n",
       "      <td>2.0</td>\n",
       "      <td>7.80</td>\n",
       "      <td>0</td>\n",
       "    </tr>\n",
       "  </tbody>\n",
       "</table>\n",
       "<p>400 rows × 7 columns</p>\n",
       "</div>"
      ],
      "text/plain": [
       "     GRE Score  TOEFL Score  University Rating  SOP  LOR   CGPA  Research\n",
       "238        310          104                  3  2.0   3.5  8.37         0\n",
       "438        318          110                  1  2.5   3.5  8.54         1\n",
       "475        300          101                  3  3.5   2.5  7.88         0\n",
       "58         300           99                  1  3.0   2.0  6.80         1\n",
       "380        322          104                  3  3.5   4.0  8.84         1\n",
       "..         ...          ...                ...  ...   ...   ...       ...\n",
       "255        307          110                  4  4.0   4.5  8.37         0\n",
       "72         321          111                  5  5.0   5.0  9.45         1\n",
       "396        325          107                  3  3.0   3.5  9.11         1\n",
       "235        326          111                  5  4.5   4.0  9.23         1\n",
       "37         300          105                  1  1.0   2.0  7.80         0\n",
       "\n",
       "[400 rows x 7 columns]"
      ]
     },
     "execution_count": 16,
     "metadata": {},
     "output_type": "execute_result"
    }
   ],
   "source": [
    "x_train"
   ]
  },
  {
   "cell_type": "markdown",
   "id": "31aff593",
   "metadata": {
    "id": "7012232a"
   },
   "source": [
    "**MinMaxscaler**"
   ]
  },
  {
   "cell_type": "code",
   "execution_count": 17,
   "id": "ba503986",
   "metadata": {
    "executionInfo": {
     "elapsed": 9,
     "status": "ok",
     "timestamp": 1700551705921,
     "user": {
      "displayName": "Uma Gurav",
      "userId": "05596086697074256321"
     },
     "user_tz": -330
    },
    "id": "1509a9cf"
   },
   "outputs": [],
   "source": [
    "from sklearn.preprocessing import MinMaxScaler"
   ]
  },
  {
   "cell_type": "code",
   "execution_count": 18,
   "id": "16dc78c8",
   "metadata": {
    "executionInfo": {
     "elapsed": 9,
     "status": "ok",
     "timestamp": 1700551705922,
     "user": {
      "displayName": "Uma Gurav",
      "userId": "05596086697074256321"
     },
     "user_tz": -330
    },
    "id": "555bed04"
   },
   "outputs": [],
   "source": [
    "scaler=MinMaxScaler()"
   ]
  },
  {
   "cell_type": "code",
   "execution_count": 19,
   "id": "f792432e",
   "metadata": {
    "executionInfo": {
     "elapsed": 1,
     "status": "ok",
     "timestamp": 1700551778737,
     "user": {
      "displayName": "Uma Gurav",
      "userId": "05596086697074256321"
     },
     "user_tz": -330
    },
    "id": "e4436dd4"
   },
   "outputs": [],
   "source": [
    "x_train_scaled=scaler.fit_transform(x_train)\n",
    "x_test_scaled=scaler.transform(x_test)"
   ]
  },
  {
   "cell_type": "code",
   "execution_count": 20,
   "id": "172db668",
   "metadata": {
    "colab": {
     "base_uri": "https://localhost:8080/"
    },
    "executionInfo": {
     "elapsed": 2,
     "status": "ok",
     "timestamp": 1700551786742,
     "user": {
      "displayName": "Uma Gurav",
      "userId": "05596086697074256321"
     },
     "user_tz": -330
    },
    "id": "178dd0a3",
    "outputId": "c3bcfd49-88da-4769-cb08-96417d6fbb5d"
   },
   "outputs": [
    {
     "data": {
      "text/plain": [
       "array([[0.4       , 0.42857143, 0.5       , ..., 0.57142857, 0.50320513,\n",
       "        0.        ],\n",
       "       [0.56      , 0.64285714, 0.        , ..., 0.57142857, 0.55769231,\n",
       "        1.        ],\n",
       "       [0.2       , 0.32142857, 0.5       , ..., 0.28571429, 0.34615385,\n",
       "        0.        ],\n",
       "       ...,\n",
       "       [0.7       , 0.53571429, 0.5       , ..., 0.57142857, 0.74038462,\n",
       "        1.        ],\n",
       "       [0.72      , 0.67857143, 1.        , ..., 0.71428571, 0.77884615,\n",
       "        1.        ],\n",
       "       [0.2       , 0.46428571, 0.        , ..., 0.14285714, 0.32051282,\n",
       "        0.        ]])"
      ]
     },
     "execution_count": 20,
     "metadata": {},
     "output_type": "execute_result"
    }
   ],
   "source": [
    "x_train_scaled"
   ]
  },
  {
   "cell_type": "code",
   "execution_count": 21,
   "id": "64ebbb6d",
   "metadata": {
    "executionInfo": {
     "elapsed": 7,
     "status": "ok",
     "timestamp": 1700551787759,
     "user": {
      "displayName": "Uma Gurav",
      "userId": "05596086697074256321"
     },
     "user_tz": -330
    },
    "id": "c3ecb0fa"
   },
   "outputs": [
    {
     "name": "stderr",
     "output_type": "stream",
     "text": [
      "2023-11-27 16:24:23.569714: I tensorflow/core/platform/cpu_feature_guard.cc:182] This TensorFlow binary is optimized to use available CPU instructions in performance-critical operations.\n",
      "To enable the following instructions: SSE3 SSE4.1 SSE4.2 AVX AVX2 FMA, in other operations, rebuild TensorFlow with the appropriate compiler flags.\n"
     ]
    }
   ],
   "source": [
    "import tensorflow"
   ]
  },
  {
   "cell_type": "code",
   "execution_count": 22,
   "id": "c43f39fa",
   "metadata": {
    "id": "69fe357e"
   },
   "outputs": [],
   "source": [
    "from tensorflow import keras\n",
    "from keras import Sequential\n",
    "from keras.layers import Dense"
   ]
  },
  {
   "cell_type": "code",
   "execution_count": 23,
   "id": "ebaf5d29",
   "metadata": {
    "id": "45a300cb"
   },
   "outputs": [
    {
     "name": "stderr",
     "output_type": "stream",
     "text": [
      "2023-11-27 16:24:24.891823: I tensorflow/core/common_runtime/process_util.cc:146] Creating new thread pool with default inter op setting: 2. Tune using inter_op_parallelism_threads for best performance.\n"
     ]
    }
   ],
   "source": [
    "model=Sequential()"
   ]
  },
  {
   "cell_type": "markdown",
   "id": "71185046-7002-4fac-ac34-1ade5b4c1c56",
   "metadata": {},
   "source": [
    "# With hidden layers"
   ]
  },
  {
   "cell_type": "code",
   "execution_count": 24,
   "id": "102943c9",
   "metadata": {
    "id": "0c79450b"
   },
   "outputs": [],
   "source": [
    "model.add(Dense(7,activation='relu' , input_dim=7))\n",
    "model.add(Dense(7,activation='relu' ))\n",
    "model.add(Dense(1,activation='linear'))"
   ]
  },
  {
   "cell_type": "markdown",
   "id": "9aff1b7f-437b-454f-9d79-115fa8558f6b",
   "metadata": {},
   "source": [
    "# Without hidden layers"
   ]
  },
  {
   "cell_type": "code",
   "execution_count": 25,
   "id": "ae2f5c02-dac5-483b-911c-cabd0de00e21",
   "metadata": {},
   "outputs": [],
   "source": [
    "#model.add(Dense(1,activation='relu', input_dim=7))"
   ]
  },
  {
   "cell_type": "code",
   "execution_count": 26,
   "id": "7e6665ba",
   "metadata": {
    "id": "e7629b37"
   },
   "outputs": [
    {
     "name": "stdout",
     "output_type": "stream",
     "text": [
      "Model: \"sequential\"\n",
      "_________________________________________________________________\n",
      " Layer (type)                Output Shape              Param #   \n",
      "=================================================================\n",
      " dense (Dense)               (None, 7)                 56        \n",
      "                                                                 \n",
      " dense_1 (Dense)             (None, 7)                 56        \n",
      "                                                                 \n",
      " dense_2 (Dense)             (None, 1)                 8         \n",
      "                                                                 \n",
      "=================================================================\n",
      "Total params: 120\n",
      "Trainable params: 120\n",
      "Non-trainable params: 0\n",
      "_________________________________________________________________\n"
     ]
    }
   ],
   "source": [
    "model.summary()"
   ]
  },
  {
   "cell_type": "markdown",
   "id": "c078c6f4",
   "metadata": {
    "id": "ba386973"
   },
   "source": [
    "**Train Model**"
   ]
  },
  {
   "cell_type": "code",
   "execution_count": 27,
   "id": "d205154c",
   "metadata": {
    "id": "ccb0fe36"
   },
   "outputs": [],
   "source": [
    "model.compile(loss='mean_squared_error' , optimizer='Adam')"
   ]
  },
  {
   "cell_type": "markdown",
   "id": "adb18276-dbfd-4a7c-aa0a-9b8297f7dda4",
   "metadata": {},
   "source": [
    "# With 100 epochs"
   ]
  },
  {
   "cell_type": "code",
   "execution_count": 28,
   "id": "1146a950",
   "metadata": {
    "colab": {
     "background_save": true
    },
    "id": "b4063f53"
   },
   "outputs": [
    {
     "name": "stdout",
     "output_type": "stream",
     "text": [
      "Epoch 1/100\n",
      "10/10 [==============================] - 1s 26ms/step - loss: 0.5001 - val_loss: 0.4983\n",
      "Epoch 2/100\n",
      "10/10 [==============================] - 0s 9ms/step - loss: 0.4364 - val_loss: 0.4300\n",
      "Epoch 3/100\n",
      "10/10 [==============================] - 0s 8ms/step - loss: 0.3739 - val_loss: 0.3613\n",
      "Epoch 4/100\n",
      "10/10 [==============================] - 0s 6ms/step - loss: 0.3074 - val_loss: 0.2887\n",
      "Epoch 5/100\n",
      "10/10 [==============================] - 0s 9ms/step - loss: 0.2409 - val_loss: 0.2172\n",
      "Epoch 6/100\n",
      "10/10 [==============================] - 0s 9ms/step - loss: 0.1774 - val_loss: 0.1502\n",
      "Epoch 7/100\n",
      "10/10 [==============================] - 0s 6ms/step - loss: 0.1193 - val_loss: 0.0924\n",
      "Epoch 8/100\n",
      "10/10 [==============================] - 0s 9ms/step - loss: 0.0736 - val_loss: 0.0531\n",
      "Epoch 9/100\n",
      "10/10 [==============================] - 0s 10ms/step - loss: 0.0447 - val_loss: 0.0338\n",
      "Epoch 10/100\n",
      "10/10 [==============================] - 0s 8ms/step - loss: 0.0318 - val_loss: 0.0268\n",
      "Epoch 11/100\n",
      "10/10 [==============================] - 0s 9ms/step - loss: 0.0255 - val_loss: 0.0241\n",
      "Epoch 12/100\n",
      "10/10 [==============================] - 0s 8ms/step - loss: 0.0229 - val_loss: 0.0230\n",
      "Epoch 13/100\n",
      "10/10 [==============================] - 0s 8ms/step - loss: 0.0212 - val_loss: 0.0218\n",
      "Epoch 14/100\n",
      "10/10 [==============================] - 0s 9ms/step - loss: 0.0199 - val_loss: 0.0208\n",
      "Epoch 15/100\n",
      "10/10 [==============================] - 0s 8ms/step - loss: 0.0189 - val_loss: 0.0200\n",
      "Epoch 16/100\n",
      "10/10 [==============================] - 0s 8ms/step - loss: 0.0181 - val_loss: 0.0192\n",
      "Epoch 17/100\n",
      "10/10 [==============================] - 0s 9ms/step - loss: 0.0174 - val_loss: 0.0186\n",
      "Epoch 18/100\n",
      "10/10 [==============================] - 0s 9ms/step - loss: 0.0168 - val_loss: 0.0180\n",
      "Epoch 19/100\n",
      "10/10 [==============================] - 0s 8ms/step - loss: 0.0162 - val_loss: 0.0175\n",
      "Epoch 20/100\n",
      "10/10 [==============================] - 0s 8ms/step - loss: 0.0156 - val_loss: 0.0170\n",
      "Epoch 21/100\n",
      "10/10 [==============================] - 0s 9ms/step - loss: 0.0151 - val_loss: 0.0165\n",
      "Epoch 22/100\n",
      "10/10 [==============================] - 0s 9ms/step - loss: 0.0146 - val_loss: 0.0160\n",
      "Epoch 23/100\n",
      "10/10 [==============================] - 0s 10ms/step - loss: 0.0141 - val_loss: 0.0156\n",
      "Epoch 24/100\n",
      "10/10 [==============================] - 0s 9ms/step - loss: 0.0137 - val_loss: 0.0152\n",
      "Epoch 25/100\n",
      "10/10 [==============================] - 0s 10ms/step - loss: 0.0133 - val_loss: 0.0148\n",
      "Epoch 26/100\n",
      "10/10 [==============================] - 0s 8ms/step - loss: 0.0129 - val_loss: 0.0144\n",
      "Epoch 27/100\n",
      "10/10 [==============================] - 0s 10ms/step - loss: 0.0125 - val_loss: 0.0140\n",
      "Epoch 28/100\n",
      "10/10 [==============================] - 0s 10ms/step - loss: 0.0121 - val_loss: 0.0136\n",
      "Epoch 29/100\n",
      "10/10 [==============================] - 0s 10ms/step - loss: 0.0118 - val_loss: 0.0133\n",
      "Epoch 30/100\n",
      "10/10 [==============================] - 0s 9ms/step - loss: 0.0115 - val_loss: 0.0129\n",
      "Epoch 31/100\n",
      "10/10 [==============================] - 0s 9ms/step - loss: 0.0111 - val_loss: 0.0126\n",
      "Epoch 32/100\n",
      "10/10 [==============================] - 0s 10ms/step - loss: 0.0108 - val_loss: 0.0123\n",
      "Epoch 33/100\n",
      "10/10 [==============================] - 0s 9ms/step - loss: 0.0105 - val_loss: 0.0120\n",
      "Epoch 34/100\n",
      "10/10 [==============================] - 0s 6ms/step - loss: 0.0103 - val_loss: 0.0117\n",
      "Epoch 35/100\n",
      "10/10 [==============================] - 0s 9ms/step - loss: 0.0100 - val_loss: 0.0114\n",
      "Epoch 36/100\n",
      "10/10 [==============================] - 0s 9ms/step - loss: 0.0097 - val_loss: 0.0111\n",
      "Epoch 37/100\n",
      "10/10 [==============================] - 0s 10ms/step - loss: 0.0095 - val_loss: 0.0108\n",
      "Epoch 38/100\n",
      "10/10 [==============================] - 0s 9ms/step - loss: 0.0093 - val_loss: 0.0106\n",
      "Epoch 39/100\n",
      "10/10 [==============================] - 0s 9ms/step - loss: 0.0091 - val_loss: 0.0104\n",
      "Epoch 40/100\n",
      "10/10 [==============================] - 0s 10ms/step - loss: 0.0088 - val_loss: 0.0101\n",
      "Epoch 41/100\n",
      "10/10 [==============================] - 0s 9ms/step - loss: 0.0086 - val_loss: 0.0099\n",
      "Epoch 42/100\n",
      "10/10 [==============================] - 0s 9ms/step - loss: 0.0084 - val_loss: 0.0096\n",
      "Epoch 43/100\n",
      "10/10 [==============================] - 0s 9ms/step - loss: 0.0082 - val_loss: 0.0094\n",
      "Epoch 44/100\n",
      "10/10 [==============================] - 0s 10ms/step - loss: 0.0080 - val_loss: 0.0092\n",
      "Epoch 45/100\n",
      "10/10 [==============================] - 0s 10ms/step - loss: 0.0079 - val_loss: 0.0090\n",
      "Epoch 46/100\n",
      "10/10 [==============================] - 0s 11ms/step - loss: 0.0077 - val_loss: 0.0088\n",
      "Epoch 47/100\n",
      "10/10 [==============================] - 0s 9ms/step - loss: 0.0075 - val_loss: 0.0086\n",
      "Epoch 48/100\n",
      "10/10 [==============================] - 0s 10ms/step - loss: 0.0074 - val_loss: 0.0085\n",
      "Epoch 49/100\n",
      "10/10 [==============================] - 0s 10ms/step - loss: 0.0072 - val_loss: 0.0083\n",
      "Epoch 50/100\n",
      "10/10 [==============================] - 0s 10ms/step - loss: 0.0071 - val_loss: 0.0081\n",
      "Epoch 51/100\n",
      "10/10 [==============================] - 0s 9ms/step - loss: 0.0069 - val_loss: 0.0080\n",
      "Epoch 52/100\n",
      "10/10 [==============================] - 0s 9ms/step - loss: 0.0068 - val_loss: 0.0078\n",
      "Epoch 53/100\n",
      "10/10 [==============================] - 0s 9ms/step - loss: 0.0067 - val_loss: 0.0076\n",
      "Epoch 54/100\n",
      "10/10 [==============================] - 0s 9ms/step - loss: 0.0065 - val_loss: 0.0075\n",
      "Epoch 55/100\n",
      "10/10 [==============================] - 0s 9ms/step - loss: 0.0064 - val_loss: 0.0073\n",
      "Epoch 56/100\n",
      "10/10 [==============================] - 0s 9ms/step - loss: 0.0063 - val_loss: 0.0072\n",
      "Epoch 57/100\n",
      "10/10 [==============================] - 0s 9ms/step - loss: 0.0062 - val_loss: 0.0071\n",
      "Epoch 58/100\n",
      "10/10 [==============================] - 0s 9ms/step - loss: 0.0061 - val_loss: 0.0069\n",
      "Epoch 59/100\n",
      "10/10 [==============================] - 0s 9ms/step - loss: 0.0060 - val_loss: 0.0068\n",
      "Epoch 60/100\n",
      "10/10 [==============================] - 0s 9ms/step - loss: 0.0059 - val_loss: 0.0067\n",
      "Epoch 61/100\n",
      "10/10 [==============================] - 0s 9ms/step - loss: 0.0058 - val_loss: 0.0066\n",
      "Epoch 62/100\n",
      "10/10 [==============================] - 0s 8ms/step - loss: 0.0057 - val_loss: 0.0065\n",
      "Epoch 63/100\n",
      "10/10 [==============================] - 0s 9ms/step - loss: 0.0056 - val_loss: 0.0063\n",
      "Epoch 64/100\n",
      "10/10 [==============================] - 0s 8ms/step - loss: 0.0056 - val_loss: 0.0062\n",
      "Epoch 65/100\n",
      "10/10 [==============================] - 0s 9ms/step - loss: 0.0055 - val_loss: 0.0061\n",
      "Epoch 66/100\n",
      "10/10 [==============================] - 0s 10ms/step - loss: 0.0054 - val_loss: 0.0061\n",
      "Epoch 67/100\n",
      "10/10 [==============================] - 0s 10ms/step - loss: 0.0054 - val_loss: 0.0060\n",
      "Epoch 68/100\n",
      "10/10 [==============================] - 0s 9ms/step - loss: 0.0053 - val_loss: 0.0059\n",
      "Epoch 69/100\n",
      "10/10 [==============================] - 0s 9ms/step - loss: 0.0052 - val_loss: 0.0058\n",
      "Epoch 70/100\n",
      "10/10 [==============================] - 0s 6ms/step - loss: 0.0052 - val_loss: 0.0057\n",
      "Epoch 71/100\n",
      "10/10 [==============================] - 0s 6ms/step - loss: 0.0051 - val_loss: 0.0057\n",
      "Epoch 72/100\n",
      "10/10 [==============================] - 0s 7ms/step - loss: 0.0051 - val_loss: 0.0056\n",
      "Epoch 73/100\n",
      "10/10 [==============================] - 0s 9ms/step - loss: 0.0050 - val_loss: 0.0055\n",
      "Epoch 74/100\n",
      "10/10 [==============================] - 0s 9ms/step - loss: 0.0050 - val_loss: 0.0055\n",
      "Epoch 75/100\n",
      "10/10 [==============================] - 0s 7ms/step - loss: 0.0049 - val_loss: 0.0054\n",
      "Epoch 76/100\n",
      "10/10 [==============================] - 0s 5ms/step - loss: 0.0049 - val_loss: 0.0053\n",
      "Epoch 77/100\n",
      "10/10 [==============================] - 0s 6ms/step - loss: 0.0049 - val_loss: 0.0053\n",
      "Epoch 78/100\n",
      "10/10 [==============================] - 0s 10ms/step - loss: 0.0048 - val_loss: 0.0052\n",
      "Epoch 79/100\n",
      "10/10 [==============================] - 0s 10ms/step - loss: 0.0048 - val_loss: 0.0052\n",
      "Epoch 80/100\n",
      "10/10 [==============================] - 0s 9ms/step - loss: 0.0047 - val_loss: 0.0051\n",
      "Epoch 81/100\n",
      "10/10 [==============================] - 0s 10ms/step - loss: 0.0047 - val_loss: 0.0051\n",
      "Epoch 82/100\n",
      "10/10 [==============================] - 0s 10ms/step - loss: 0.0047 - val_loss: 0.0050\n",
      "Epoch 83/100\n",
      "10/10 [==============================] - 0s 9ms/step - loss: 0.0046 - val_loss: 0.0050\n",
      "Epoch 84/100\n",
      "10/10 [==============================] - 0s 9ms/step - loss: 0.0046 - val_loss: 0.0049\n",
      "Epoch 85/100\n",
      "10/10 [==============================] - 0s 8ms/step - loss: 0.0046 - val_loss: 0.0049\n",
      "Epoch 86/100\n",
      "10/10 [==============================] - 0s 6ms/step - loss: 0.0045 - val_loss: 0.0049\n",
      "Epoch 87/100\n",
      "10/10 [==============================] - 0s 6ms/step - loss: 0.0045 - val_loss: 0.0048\n",
      "Epoch 88/100\n",
      "10/10 [==============================] - 0s 6ms/step - loss: 0.0045 - val_loss: 0.0048\n",
      "Epoch 89/100\n",
      "10/10 [==============================] - 0s 12ms/step - loss: 0.0044 - val_loss: 0.0048\n",
      "Epoch 90/100\n",
      "10/10 [==============================] - 0s 10ms/step - loss: 0.0044 - val_loss: 0.0047\n",
      "Epoch 91/100\n",
      "10/10 [==============================] - 0s 10ms/step - loss: 0.0044 - val_loss: 0.0047\n",
      "Epoch 92/100\n",
      "10/10 [==============================] - 0s 9ms/step - loss: 0.0044 - val_loss: 0.0047\n",
      "Epoch 93/100\n",
      "10/10 [==============================] - 0s 9ms/step - loss: 0.0044 - val_loss: 0.0046\n",
      "Epoch 94/100\n",
      "10/10 [==============================] - 0s 9ms/step - loss: 0.0043 - val_loss: 0.0046\n",
      "Epoch 95/100\n",
      "10/10 [==============================] - 0s 10ms/step - loss: 0.0043 - val_loss: 0.0046\n",
      "Epoch 96/100\n",
      "10/10 [==============================] - 0s 10ms/step - loss: 0.0043 - val_loss: 0.0046\n",
      "Epoch 97/100\n",
      "10/10 [==============================] - 0s 9ms/step - loss: 0.0043 - val_loss: 0.0045\n",
      "Epoch 98/100\n",
      "10/10 [==============================] - 0s 9ms/step - loss: 0.0043 - val_loss: 0.0045\n",
      "Epoch 99/100\n",
      "10/10 [==============================] - 0s 9ms/step - loss: 0.0042 - val_loss: 0.0045\n",
      "Epoch 100/100\n",
      "10/10 [==============================] - 0s 10ms/step - loss: 0.0042 - val_loss: 0.0045\n"
     ]
    }
   ],
   "source": [
    "history=model.fit(x_train_scaled , y_train , epochs=100 ,validation_split=0.2)"
   ]
  },
  {
   "cell_type": "markdown",
   "id": "5ced9f21-91bc-46eb-96fb-8b862d1ab041",
   "metadata": {},
   "source": [
    "# With 10 epochs"
   ]
  },
  {
   "cell_type": "code",
   "execution_count": 29,
   "id": "997f9d26-749c-4d1a-9b58-a524fa5f7ff8",
   "metadata": {},
   "outputs": [],
   "source": [
    "# history10 = model.fit(x_train_scaled, y_train, epochs = 10, validation_split = 0.2)"
   ]
  },
  {
   "cell_type": "code",
   "execution_count": 30,
   "id": "22219b21",
   "metadata": {
    "colab": {
     "background_save": true
    },
    "id": "d7be5891"
   },
   "outputs": [
    {
     "name": "stdout",
     "output_type": "stream",
     "text": [
      "4/4 [==============================] - 0s 3ms/step\n"
     ]
    }
   ],
   "source": [
    "y_pred=model.predict(x_test_scaled)"
   ]
  },
  {
   "cell_type": "markdown",
   "id": "25350f8d-2677-444d-890a-252d63de9ebc",
   "metadata": {
    "id": "8f9551fe"
   },
   "source": [
    "# Performance of model"
   ]
  },
  {
   "cell_type": "code",
   "execution_count": 31,
   "id": "fb07daae",
   "metadata": {
    "colab": {
     "background_save": true
    },
    "id": "6fae06f5"
   },
   "outputs": [
    {
     "data": {
      "text/plain": [
       "0.7965450737126489"
      ]
     },
     "execution_count": 31,
     "metadata": {},
     "output_type": "execute_result"
    }
   ],
   "source": [
    "from sklearn.metrics import r2_score\n",
    "r2_score(y_test,y_pred)"
   ]
  },
  {
   "cell_type": "code",
   "execution_count": 32,
   "id": "59968ef7",
   "metadata": {
    "colab": {
     "background_save": true
    },
    "id": "509809d9"
   },
   "outputs": [
    {
     "name": "stdout",
     "output_type": "stream",
     "text": [
      "Model: \"sequential\"\n",
      "_________________________________________________________________\n",
      " Layer (type)                Output Shape              Param #   \n",
      "=================================================================\n",
      " dense (Dense)               (None, 7)                 56        \n",
      "                                                                 \n",
      " dense_1 (Dense)             (None, 7)                 56        \n",
      "                                                                 \n",
      " dense_2 (Dense)             (None, 1)                 8         \n",
      "                                                                 \n",
      "=================================================================\n",
      "Total params: 120\n",
      "Trainable params: 120\n",
      "Non-trainable params: 0\n",
      "_________________________________________________________________\n"
     ]
    }
   ],
   "source": [
    "model.summary()"
   ]
  },
  {
   "cell_type": "code",
   "execution_count": 33,
   "id": "bc5f74b1",
   "metadata": {
    "id": "7bd187b9",
    "outputId": "ed86390d-ed8e-41f0-875f-4acecc5c5ad9"
   },
   "outputs": [
    {
     "data": {
      "text/plain": [
       "[<matplotlib.lines.Line2D at 0x7fe2415cd310>]"
      ]
     },
     "execution_count": 33,
     "metadata": {},
     "output_type": "execute_result"
    },
    {
     "data": {
      "image/png": "[encoded data removed]",
      "text/plain": [
       "<Figure size 640x480 with 1 Axes>"
      ]
     },
     "metadata": {},
     "output_type": "display_data"
    }
   ],
   "source": [
    "import matplotlib.pyplot as plt\n",
    "plt.plot(history.history['loss'])\n",
    "plt.plot(history.history['val_loss'])"
   ]
  },
  {
   "cell_type": "markdown",
   "id": "2ee862b0-6fc4-44b8-bbb5-e98d948f5ec5",
   "metadata": {},
   "source": [
    "# Results are as follows (results as per when they were tested):"
   ]
  },
  {
   "cell_type": "markdown",
   "id": "298449e4-8dbe-4b0e-8fb6-f5ae640a57c9",
   "metadata": {
    "id": "0b85fe31"
   },
   "source": [
    "# R2 Score of model with 100 epochs = 0.7939996255094224\n",
    "# R2 Score of model with 10 epochs = -0.061835391300533615"
   ]
  },
  {
   "cell_type": "markdown",
   "id": "2fd54acb-40c2-4160-94ae-164f6eee8838",
   "metadata": {},
   "source": [
    "# R2 score of model with hidden layers = 0.648690167976816"
   ]
  },
  {
   "cell_type": "markdown",
   "id": "ce139ee5-df10-4fb5-8bf4-d79509050866",
   "metadata": {},
   "source": [
    "# R2 score of model without hidden layers = -27.21233819825335"
   ]
  },
  {
   "cell_type": "code",
   "execution_count": null,
   "id": "c86eef41-ba88-4e45-8734-781a394894e5",
   "metadata": {},
   "outputs": [],
   "source": []
  }
 ],
 "metadata": {
  "colab": {
   "name": "",
   "version": ""
  },
  "kernelspec": {
   "display_name": "Python 3 (ipykernel)",
   "language": "python",
   "name": "python3"
  },
  "language_info": {
   "codemirror_mode": {
    "name": "ipython",
    "version": 3
   },
   "file_extension": ".py",
   "mimetype": "text/x-python",
   "name": "python",
   "nbconvert_exporter": "python",
   "pygments_lexer": "ipython3",
   "version": "3.11.6"
  },
  "papermill": {
   "default_parameters": {},
   "duration": 21.902992,
   "end_time": "2023-10-31T14:12:48.873890",
   "environment_variables": {},
   "exception": null,
   "input_path": "__notebook__.ipynb",
   "output_path": "__notebook__.ipynb",
   "parameters": {},
   "start_time": "2023-10-31T14:12:26.970898",
   "version": "2.4.0"
  }
 },
 "nbformat": 4,
 "nbformat_minor": 5
}

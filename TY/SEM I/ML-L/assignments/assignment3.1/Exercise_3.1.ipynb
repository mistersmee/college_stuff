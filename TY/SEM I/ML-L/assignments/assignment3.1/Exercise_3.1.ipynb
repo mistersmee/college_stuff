{
 "cells": [
  {
   "cell_type": "code",
   "execution_count": 1,
   "metadata": {
    "id": "emwVsb84JWQt"
   },
   "outputs": [],
   "source": [
    "import pandas as pd\n",
    "import matplotlib.pyplot as plt\n",
    "import numpy as np\n",
    "import seaborn as sn"
   ]
  },
  {
   "cell_type": "code",
   "execution_count": 2,
   "metadata": {
    "colab": {
     "base_uri": "https://localhost:8080/",
     "height": 424
    },
    "id": "_DapiboKLc1J",
    "outputId": "b7d2fd7a-9fa9-430e-9007-ffb4671351ed"
   },
   "outputs": [
    {
     "data": {
      "text/html": [
       "<div>\n",
       "<style scoped>\n",
       "    .dataframe tbody tr th:only-of-type {\n",
       "        vertical-align: middle;\n",
       "    }\n",
       "\n",
       "    .dataframe tbody tr th {\n",
       "        vertical-align: top;\n",
       "    }\n",
       "\n",
       "    .dataframe thead th {\n",
       "        text-align: right;\n",
       "    }\n",
       "</style>\n",
       "<table border=\"1\" class=\"dataframe\">\n",
       "  <thead>\n",
       "    <tr style=\"text-align: right;\">\n",
       "      <th></th>\n",
       "      <th>User ID</th>\n",
       "      <th>Gender</th>\n",
       "      <th>Age</th>\n",
       "      <th>EstimatedSalary</th>\n",
       "      <th>Purchased</th>\n",
       "    </tr>\n",
       "  </thead>\n",
       "  <tbody>\n",
       "    <tr>\n",
       "      <th>0</th>\n",
       "      <td>15624510</td>\n",
       "      <td>Male</td>\n",
       "      <td>19</td>\n",
       "      <td>19000</td>\n",
       "      <td>0</td>\n",
       "    </tr>\n",
       "    <tr>\n",
       "      <th>1</th>\n",
       "      <td>15810944</td>\n",
       "      <td>Male</td>\n",
       "      <td>35</td>\n",
       "      <td>20000</td>\n",
       "      <td>0</td>\n",
       "    </tr>\n",
       "    <tr>\n",
       "      <th>2</th>\n",
       "      <td>15668575</td>\n",
       "      <td>Female</td>\n",
       "      <td>26</td>\n",
       "      <td>43000</td>\n",
       "      <td>0</td>\n",
       "    </tr>\n",
       "    <tr>\n",
       "      <th>3</th>\n",
       "      <td>15603246</td>\n",
       "      <td>Female</td>\n",
       "      <td>27</td>\n",
       "      <td>57000</td>\n",
       "      <td>0</td>\n",
       "    </tr>\n",
       "    <tr>\n",
       "      <th>4</th>\n",
       "      <td>15804002</td>\n",
       "      <td>Male</td>\n",
       "      <td>19</td>\n",
       "      <td>76000</td>\n",
       "      <td>0</td>\n",
       "    </tr>\n",
       "    <tr>\n",
       "      <th>...</th>\n",
       "      <td>...</td>\n",
       "      <td>...</td>\n",
       "      <td>...</td>\n",
       "      <td>...</td>\n",
       "      <td>...</td>\n",
       "    </tr>\n",
       "    <tr>\n",
       "      <th>395</th>\n",
       "      <td>15691863</td>\n",
       "      <td>Female</td>\n",
       "      <td>46</td>\n",
       "      <td>41000</td>\n",
       "      <td>1</td>\n",
       "    </tr>\n",
       "    <tr>\n",
       "      <th>396</th>\n",
       "      <td>15706071</td>\n",
       "      <td>Male</td>\n",
       "      <td>51</td>\n",
       "      <td>23000</td>\n",
       "      <td>1</td>\n",
       "    </tr>\n",
       "    <tr>\n",
       "      <th>397</th>\n",
       "      <td>15654296</td>\n",
       "      <td>Female</td>\n",
       "      <td>50</td>\n",
       "      <td>20000</td>\n",
       "      <td>1</td>\n",
       "    </tr>\n",
       "    <tr>\n",
       "      <th>398</th>\n",
       "      <td>15755018</td>\n",
       "      <td>Male</td>\n",
       "      <td>36</td>\n",
       "      <td>33000</td>\n",
       "      <td>0</td>\n",
       "    </tr>\n",
       "    <tr>\n",
       "      <th>399</th>\n",
       "      <td>15594041</td>\n",
       "      <td>Female</td>\n",
       "      <td>49</td>\n",
       "      <td>36000</td>\n",
       "      <td>1</td>\n",
       "    </tr>\n",
       "  </tbody>\n",
       "</table>\n",
       "<p>400 rows × 5 columns</p>\n",
       "</div>"
      ],
      "text/plain": [
       "      User ID  Gender  Age  EstimatedSalary  Purchased\n",
       "0    15624510    Male   19            19000          0\n",
       "1    15810944    Male   35            20000          0\n",
       "2    15668575  Female   26            43000          0\n",
       "3    15603246  Female   27            57000          0\n",
       "4    15804002    Male   19            76000          0\n",
       "..        ...     ...  ...              ...        ...\n",
       "395  15691863  Female   46            41000          1\n",
       "396  15706071    Male   51            23000          1\n",
       "397  15654296  Female   50            20000          1\n",
       "398  15755018    Male   36            33000          0\n",
       "399  15594041  Female   49            36000          1\n",
       "\n",
       "[400 rows x 5 columns]"
      ]
     },
     "execution_count": 2,
     "metadata": {},
     "output_type": "execute_result"
    }
   ],
   "source": [
    "df=pd.read_csv(\"/home/smee/docs/clgdocs/TY/SEM V/ML/DATASET/Social_Net_class.csv\")\n",
    "df"
   ]
  },
  {
   "cell_type": "code",
   "execution_count": 3,
   "metadata": {
    "colab": {
     "base_uri": "https://localhost:8080/"
    },
    "id": "vl5CYLQ7MVqR",
    "outputId": "76b48450-5f8d-480a-b6f5-c705e7ede94e"
   },
   "outputs": [
    {
     "data": {
      "text/plain": [
       "User ID            0\n",
       "Gender             0\n",
       "Age                0\n",
       "EstimatedSalary    0\n",
       "Purchased          0\n",
       "dtype: int64"
      ]
     },
     "execution_count": 3,
     "metadata": {},
     "output_type": "execute_result"
    }
   ],
   "source": [
    "df.isnull().sum()\n"
   ]
  },
  {
   "cell_type": "code",
   "execution_count": 4,
   "metadata": {
    "colab": {
     "base_uri": "https://localhost:8080/"
    },
    "id": "9mzD9mKBQE0e",
    "outputId": "ec129748-6d76-41c7-e9cf-9f9c1d3a1423"
   },
   "outputs": [
    {
     "name": "stderr",
     "output_type": "stream",
     "text": [
      "/tmp/ipykernel_23127/2164119501.py:2: FutureWarning: The default value of numeric_only in DataFrame.mean is deprecated. In a future version, it will default to False. In addition, specifying 'numeric_only=None' is deprecated. Select only valid columns or specify the value of numeric_only to silence this warning.\n",
      "  df.fillna(df.mean(), inplace=True)\n"
     ]
    }
   ],
   "source": [
    "# Replace NaN values with the mean of the column\n",
    "df.fillna(df.mean(), inplace=True)\n"
   ]
  },
  {
   "cell_type": "code",
   "execution_count": 5,
   "metadata": {
    "id": "xFat1JF3MoX3"
   },
   "outputs": [],
   "source": [
    "x=df[['Age','EstimatedSalary']].values\n",
    "y=df['Purchased'].values\n"
   ]
  },
  {
   "cell_type": "code",
   "execution_count": 6,
   "metadata": {
    "id": "bImcnlckNSE0"
   },
   "outputs": [],
   "source": [
    "from sklearn.model_selection import train_test_split\n",
    "x_train,x_test,y_train,y_test=train_test_split(x,y,test_size=0.2,random_state=45)\n"
   ]
  },
  {
   "cell_type": "code",
   "execution_count": 7,
   "metadata": {
    "colab": {
     "base_uri": "https://localhost:8080/"
    },
    "id": "VoRAu6c6N7EL",
    "outputId": "e0f2a948-247d-4faf-8eee-ef67c9b23a57"
   },
   "outputs": [
    {
     "data": {
      "text/plain": [
       "0.8625"
      ]
     },
     "execution_count": 7,
     "metadata": {},
     "output_type": "execute_result"
    }
   ],
   "source": [
    "from sklearn.tree import DecisionTreeClassifier\n",
    "model=DecisionTreeClassifier(max_depth=6,random_state=45)\n",
    "model.fit(x_train,y_train)\n",
    "model.score(x_test,y_test)"
   ]
  },
  {
   "cell_type": "code",
   "execution_count": 8,
   "metadata": {},
   "outputs": [
    {
     "name": "stdout",
     "output_type": "stream",
     "text": [
      "1 0.85\n",
      "2 0.8916666666666667\n",
      "3 0.8583333333333333\n",
      "4 0.9083333333333333\n",
      "5 0.875\n",
      "6 0.8916666666666667\n",
      "7 0.8583333333333333\n",
      "8 0.8833333333333333\n",
      "9 0.8833333333333333\n",
      "10 0.9166666666666666\n",
      "11 0.875\n",
      "12 0.8083333333333333\n",
      "13 0.9083333333333333\n",
      "14 0.9\n",
      "15 0.8916666666666667\n",
      "16 0.9083333333333333\n",
      "17 0.8583333333333333\n",
      "18 0.9\n",
      "19 0.9\n",
      "20 0.8666666666666667\n",
      "21 0.875\n",
      "22 0.8666666666666667\n",
      "23 0.8916666666666667\n",
      "24 0.9166666666666666\n",
      "25 0.8916666666666667\n",
      "26 0.9083333333333333\n",
      "27 0.8666666666666667\n",
      "28 0.8333333333333334\n",
      "29 0.9\n",
      "30 0.875\n",
      "31 0.8916666666666667\n",
      "32 0.8416666666666667\n",
      "33 0.9166666666666666\n",
      "34 0.875\n",
      "35 0.85\n",
      "36 0.9166666666666666\n",
      "37 0.8666666666666667\n",
      "38 0.875\n",
      "39 0.875\n",
      "40 0.9\n",
      "41 0.925\n",
      "42 0.9\n",
      "43 0.8583333333333333\n",
      "44 0.8916666666666667\n",
      "45 0.8583333333333333\n",
      "46 0.8916666666666667\n",
      "47 0.8833333333333333\n",
      "48 0.8833333333333333\n",
      "49 0.8666666666666667\n",
      "50 0.8666666666666667\n",
      "51 0.8666666666666667\n",
      "52 0.8583333333333333\n",
      "53 0.825\n",
      "54 0.9083333333333333\n",
      "55 0.8833333333333333\n",
      "56 0.8583333333333333\n",
      "57 0.9\n",
      "58 0.9083333333333333\n",
      "59 0.8666666666666667\n",
      "60 0.8666666666666667\n",
      "61 0.875\n",
      "62 0.8416666666666667\n",
      "63 0.8416666666666667\n",
      "64 0.875\n",
      "65 0.8916666666666667\n",
      "66 0.875\n",
      "67 0.8666666666666667\n",
      "68 0.925\n",
      "69 0.8916666666666667\n",
      "70 0.8666666666666667\n",
      "71 0.825\n",
      "72 0.9166666666666666\n",
      "73 0.9083333333333333\n",
      "74 0.9166666666666666\n",
      "75 0.8583333333333333\n",
      "76 0.925\n",
      "77 0.85\n",
      "78 0.8666666666666667\n",
      "79 0.825\n",
      "80 0.9\n",
      "81 0.8583333333333333\n",
      "82 0.8333333333333334\n",
      "83 0.8416666666666667\n",
      "84 0.8666666666666667\n",
      "85 0.8916666666666667\n",
      "86 0.875\n",
      "87 0.825\n",
      "88 0.8916666666666667\n",
      "89 0.85\n",
      "90 0.9083333333333333\n",
      "91 0.875\n",
      "92 0.8666666666666667\n",
      "93 0.875\n",
      "94 0.8416666666666667\n",
      "95 0.8916666666666667\n",
      "96 0.8166666666666667\n",
      "97 0.8666666666666667\n",
      "98 0.825\n",
      "99 0.8916666666666667\n"
     ]
    }
   ],
   "source": [
    "for i in range(1,100):\n",
    "    x_train, x_test, y_train, y_test = train_test_split(x, y, test_size = 0.3, random_state = i)\n",
    "    model = DecisionTreeClassifier(max_depth=6, random_state=i)\n",
    "    model.fit(x_train, y_train)\n",
    "    print(i, model.score(x_test, y_test))"
   ]
  },
  {
   "cell_type": "markdown",
   "metadata": {},
   "source": [
    "## Here, accuracy score is 91.6% for multiple random states like 10 and 33"
   ]
  },
  {
   "cell_type": "code",
   "execution_count": null,
   "metadata": {},
   "outputs": [],
   "source": []
  }
 ],
 "metadata": {
  "colab": {
   "provenance": []
  },
  "kernelspec": {
   "display_name": "Python 3 (ipykernel)",
   "language": "python",
   "name": "python3"
  },
  "language_info": {
   "codemirror_mode": {
    "name": "ipython",
    "version": 3
   },
   "file_extension": ".py",
   "mimetype": "text/x-python",
   "name": "python",
   "nbconvert_exporter": "python",
   "pygments_lexer": "ipython3",
   "version": "3.11.5"
  }
 },
 "nbformat": 4,
 "nbformat_minor": 4
}
